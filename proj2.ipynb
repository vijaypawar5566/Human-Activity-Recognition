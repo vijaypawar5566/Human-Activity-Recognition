{
 "cells": [
  {
   "cell_type": "markdown",
   "metadata": {
    "application/vnd.databricks.v1+cell": {
     "cellMetadata": {},
     "inputWidgets": {},
     "nuid": "c8a5c06b-ba3c-40aa-94cd-cfe35d010401",
     "showTitle": false,
     "title": ""
    }
   },
   "source": [
    "# Human Activity Recognition Using SmartDevice Data(Phone/Watch)"
   ]
  },
  {
   "cell_type": "code",
   "execution_count": 0,
   "metadata": {
    "application/vnd.databricks.v1+cell": {
     "cellMetadata": {
      "byteLimit": 2048000,
      "rowLimit": 10000
     },
     "inputWidgets": {},
     "nuid": "37087266-b7ee-4e85-b510-baee7bf4e6b2",
     "showTitle": true,
     "title": "Reading accel data of user 10"
    }
   },
   "outputs": [],
   "source": [
    "\n",
    "# The applied options are for CSV files. For other file types, these will be ignored.\n",
    "col = ['participant_id' , 'activity_code' , 'timestamp', 'x', 'y', 'z']\n",
    "raw_par_10_phone_accel = spark.read.format(\"csv\") \\\n",
    "             .option(\"header\", \"false\") \\\n",
    "             .option(\"inferSchema\", \"true\") \\\n",
    "             .option(\"delimiter\", \",\") \\\n",
    "             .load(\"s3://humanactivity/wisdm-dataset/raw/phone/accel/data_1610_accel_phone.txt\") \n",
    "             .toDF(*col)\n",
    "\n",
    "display(raw_par_10_phone_accel)"
   ]
  },
  {
   "cell_type": "markdown",
   "metadata": {
    "application/vnd.databricks.v1+cell": {
     "cellMetadata": {},
     "inputWidgets": {},
     "nuid": "38889ac9-5ddd-4ebe-9187-e21d5b8d2821",
     "showTitle": false,
     "title": ""
    }
   },
   "source": [
    "## EDA"
   ]
  },
  {
   "cell_type": "code",
   "execution_count": 0,
   "metadata": {
    "application/vnd.databricks.v1+cell": {
     "cellMetadata": {
      "byteLimit": 2048000,
      "rowLimit": 10000
     },
     "inputWidgets": {},
     "nuid": "d1e686b6-3c8c-450f-84eb-e8381c720d74",
     "showTitle": false,
     "title": ""
    }
   },
   "outputs": [
    {
     "output_type": "stream",
     "name": "stdout",
     "output_type": "stream",
     "text": [
      "+--------------+-------------+--------------+----------+---------+-----------+\n|participant_id|activity_code|     timestamp|         x|        y|          z|\n+--------------+-------------+--------------+----------+---------+-----------+\n|          1610|            A|18687441561967| 1.1749573|13.347473|-4.0346375;|\n|          1610|            A|18687491915971| 1.4081879| 7.091858|-3.8957214;|\n|          1610|            A|18687542269974| 4.9325104|6.3068085|-2.3390045;|\n|          1610|            A|18687592623978|0.15464783|6.1235046|-1.8314667;|\n|          1610|            A|18687642977982|-2.8260345| 4.180542|-3.2118988;|\n+--------------+-------------+--------------+----------+---------+-----------+\nonly showing top 5 rows\n\n"
     ]
    }
   ],
   "source": [
    "raw_par_10_phone_accel.show(5)"
   ]
  },
  {
   "cell_type": "code",
   "execution_count": 0,
   "metadata": {
    "application/vnd.databricks.v1+cell": {
     "cellMetadata": {
      "byteLimit": 2048000,
      "rowLimit": 10000
     },
     "inputWidgets": {},
     "nuid": "032c611e-b986-41a0-9f6e-92a5cbe44f6d",
     "showTitle": false,
     "title": ""
    }
   },
   "outputs": [
    {
     "output_type": "stream",
     "name": "stdout",
     "output_type": "stream",
     "text": [
      "Out[89]: [('participant_id', 'int'),\n ('activity_code', 'string'),\n ('timestamp', 'bigint'),\n ('x', 'double'),\n ('y', 'double'),\n ('z', 'string')]"
     ]
    }
   ],
   "source": [
    "raw_par_10_phone_accel.dtypes"
   ]
  },
  {
   "cell_type": "code",
   "execution_count": 0,
   "metadata": {
    "application/vnd.databricks.v1+cell": {
     "cellMetadata": {
      "byteLimit": 2048000,
      "rowLimit": 10000
     },
     "inputWidgets": {},
     "nuid": "f72a942d-e9b1-418b-be74-5b7414dea258",
     "showTitle": false,
     "title": ""
    }
   },
   "outputs": [],
   "source": [
    "from pyspark.sql.functions import regexp_replace\n",
    "raw_par_10_phone_accel=raw_par_10_phone_accel.withColumn('z',regexp_replace('z',';',''))"
   ]
  },
  {
   "cell_type": "code",
   "execution_count": 0,
   "metadata": {
    "application/vnd.databricks.v1+cell": {
     "cellMetadata": {
      "byteLimit": 2048000,
      "rowLimit": 10000
     },
     "inputWidgets": {},
     "nuid": "bee3eca9-86c5-4a66-b072-42acd9ef9dc4",
     "showTitle": false,
     "title": ""
    }
   },
   "outputs": [],
   "source": [
    "from pyspark.sql.functions import col\n",
    "from pyspark.sql.types import DoubleType\n"
   ]
  },
  {
   "cell_type": "code",
   "execution_count": 0,
   "metadata": {
    "application/vnd.databricks.v1+cell": {
     "cellMetadata": {
      "byteLimit": 2048000,
      "rowLimit": 10000
     },
     "inputWidgets": {},
     "nuid": "621e0753-c53b-4253-857d-65701d9c9a93",
     "showTitle": false,
     "title": ""
    }
   },
   "outputs": [],
   "source": [
    "from pyspark.sql.types import DoubleType\n",
    "raw_par_10_phone_accel = raw_par_10_phone_accel.withColumn(\"z\", col(\"z\").cast(DoubleType()))"
   ]
  },
  {
   "cell_type": "code",
   "execution_count": 0,
   "metadata": {
    "application/vnd.databricks.v1+cell": {
     "cellMetadata": {
      "byteLimit": 2048000,
      "rowLimit": 10000
     },
     "inputWidgets": {},
     "nuid": "3e6a084b-9d6e-4bb2-a73f-f3be3ef0c782",
     "showTitle": false,
     "title": ""
    }
   },
   "outputs": [
    {
     "output_type": "stream",
     "name": "stdout",
     "output_type": "stream",
     "text": [
      "Out[93]: [('participant_id', 'int'),\n ('activity_code', 'string'),\n ('timestamp', 'bigint'),\n ('x', 'double'),\n ('y', 'double'),\n ('z', 'double')]"
     ]
    }
   ],
   "source": [
    "raw_par_10_phone_accel.dtypes"
   ]
  },
  {
   "cell_type": "code",
   "execution_count": 0,
   "metadata": {
    "application/vnd.databricks.v1+cell": {
     "cellMetadata": {
      "byteLimit": 2048000,
      "rowLimit": 10000
     },
     "inputWidgets": {},
     "nuid": "6ab1d861-09cf-49f6-a412-1af4d44442a1",
     "showTitle": false,
     "title": ""
    }
   },
   "outputs": [],
   "source": [
    "from pyspark.sql.functions import unix_timestamp\n",
    "raw_par_10_phone_accel = raw_par_10_phone_accel.withColumn('timestamp', col('timestamp').cast('timestamp'))"
   ]
  },
  {
   "cell_type": "code",
   "execution_count": 0,
   "metadata": {
    "application/vnd.databricks.v1+cell": {
     "cellMetadata": {
      "byteLimit": 2048000,
      "rowLimit": 10000
     },
     "inputWidgets": {},
     "nuid": "f4429f4c-f2ad-4873-8b26-1e9a65472540",
     "showTitle": false,
     "title": ""
    }
   },
   "outputs": [
    {
     "output_type": "stream",
     "name": "stdout",
     "output_type": "stream",
     "text": [
      "Out[78]: [('participant_id', 'int'),\n ('activity_code', 'string'),\n ('timestamp', 'timestamp'),\n ('x', 'double'),\n ('y', 'double'),\n ('z', 'double')]"
     ]
    }
   ],
   "source": [
    "raw_par_10_phone_accel.dtypes"
   ]
  },
  {
   "cell_type": "code",
   "execution_count": 0,
   "metadata": {
    "application/vnd.databricks.v1+cell": {
     "cellMetadata": {
      "byteLimit": 2048000,
      "rowLimit": 10000
     },
     "inputWidgets": {},
     "nuid": "8bb8f93a-e7b3-4642-83a4-b4e5660ac719",
     "showTitle": false,
     "title": ""
    }
   },
   "outputs": [
    {
     "output_type": "stream",
     "name": "stdout",
     "output_type": "stream",
     "text": [
      "+--------------+-------------+--------------+----------+---------+----------+\n|participant_id|activity_code|     timestamp|         x|        y|         z|\n+--------------+-------------+--------------+----------+---------+----------+\n|          1610|            A|18687441561967| 1.1749573|13.347473|-4.0346375|\n|          1610|            A|18687491915971| 1.4081879| 7.091858|-3.8957214|\n|          1610|            A|18687542269974| 4.9325104|6.3068085|-2.3390045|\n|          1610|            A|18687592623978|0.15464783|6.1235046|-1.8314667|\n|          1610|            A|18687642977982|-2.8260345| 4.180542|-3.2118988|\n+--------------+-------------+--------------+----------+---------+----------+\nonly showing top 5 rows\n\n"
     ]
    }
   ],
   "source": [
    "raw_par_10_phone_accel.show(5)"
   ]
  },
  {
   "cell_type": "code",
   "execution_count": 0,
   "metadata": {
    "application/vnd.databricks.v1+cell": {
     "cellMetadata": {
      "byteLimit": 2048000,
      "rowLimit": 10000
     },
     "inputWidgets": {},
     "nuid": "7f288e6f-06be-4832-a9fa-95a4c905f85f",
     "showTitle": true,
     "title": "Null value check"
    }
   },
   "outputs": [
    {
     "output_type": "stream",
     "name": "stdout",
     "output_type": "stream",
     "text": [
      "participant_id 0\nactivity_code 0\ntimestamp 0\nx 0\ny 0\nz 0\n"
     ]
    }
   ],
   "source": [
    "from pyspark.sql.functions import *\n",
    "columns = ['participant_id','activity_code','timestamp', 'x','y','z']\n",
    "for i in columns:\n",
    "    print(i,raw_par_10_phone_accel.filter(raw_par_10_phone_accel[i].isNull()).count())"
   ]
  },
  {
   "cell_type": "code",
   "execution_count": 0,
   "metadata": {
    "application/vnd.databricks.v1+cell": {
     "cellMetadata": {
      "byteLimit": 2048000,
      "rowLimit": 10000
     },
     "inputWidgets": {},
     "nuid": "a123a6fb-dde5-463c-9ba9-e30f2da1698b",
     "showTitle": true,
     "title": "Dictionary to map activity_code column"
    }
   },
   "outputs": [],
   "source": [
    "activity_codes_mapping = {'A': 'walking',\n",
    "                          'B': 'jogging',\n",
    "                          'C': 'stairs',\n",
    "                          'D': 'sitting',\n",
    "                          'E': 'standing',\n",
    "                          'F': 'typing',\n",
    "                          'G': 'brushing teeth',\n",
    "                          'H': 'eating soup',\n",
    "                          'I': 'eating chips',\n",
    "                          'J': 'eating pasta',\n",
    "                          'K': 'drinking from cup',\n",
    "                          'L': 'eating sandwich',\n",
    "                          'M': 'kicking soccer ball',\n",
    "                          'O': 'playing catch tennis ball',\n",
    "                          'P': 'dribbling basket ball',\n",
    "                          'Q': 'writing',\n",
    "                          'R': 'clapping',\n",
    "                          'S': 'folding clothes'}"
   ]
  },
  {
   "cell_type": "code",
   "execution_count": 0,
   "metadata": {
    "application/vnd.databricks.v1+cell": {
     "cellMetadata": {
      "byteLimit": 2048000,
      "rowLimit": 10000
     },
     "inputWidgets": {},
     "nuid": "5ec0cd7c-10c3-4f95-91a5-b005b24b6bd5",
     "showTitle": false,
     "title": ""
    }
   },
   "outputs": [],
   "source": [
    "def activity_codes_mapping_udf(code):\n",
    "    return activity_codes_mapping.get(code, 'unknown')"
   ]
  },
  {
   "cell_type": "code",
   "execution_count": 0,
   "metadata": {
    "application/vnd.databricks.v1+cell": {
     "cellMetadata": {
      "byteLimit": 2048000,
      "rowLimit": 10000
     },
     "inputWidgets": {},
     "nuid": "0b115648-99af-45fb-bc78-44ea7ba4e516",
     "showTitle": true,
     "title": "Colour code for each Activity"
    }
   },
   "outputs": [],
   "source": [
    "activity_color_map = {activity_codes_mapping['A']: 'lime',\n",
    "                      activity_codes_mapping['B']: 'red',\n",
    "                      activity_codes_mapping['C']: 'blue',\n",
    "                      activity_codes_mapping['D']: 'orange',\n",
    "                      activity_codes_mapping['E']: 'yellow',\n",
    "                      activity_codes_mapping['F']: 'lightgreen',\n",
    "                      activity_codes_mapping['G']: 'greenyellow',\n",
    "                      activity_codes_mapping['H']: 'magenta',\n",
    "                      activity_codes_mapping['I']: 'gold',\n",
    "                      activity_codes_mapping['J']: 'cyan',\n",
    "                      activity_codes_mapping['K']: 'purple',\n",
    "                      activity_codes_mapping['L']: 'lightgreen',\n",
    "                      activity_codes_mapping['M']: 'violet',\n",
    "                      activity_codes_mapping['O']: 'limegreen',\n",
    "                      activity_codes_mapping['P']: 'deepskyblue',   \n",
    "                      activity_codes_mapping['Q']: 'mediumspringgreen',\n",
    "                      activity_codes_mapping['R']: 'plum',\n",
    "                      activity_codes_mapping['S']: 'olive'}"
   ]
  },
  {
   "cell_type": "code",
   "execution_count": 0,
   "metadata": {
    "application/vnd.databricks.v1+cell": {
     "cellMetadata": {
      "byteLimit": 2048000,
      "rowLimit": 10000
     },
     "inputWidgets": {},
     "nuid": "e36ea01d-8f9f-4516-ac9f-10a95e0ac4e2",
     "showTitle": true,
     "title": "Histogram"
    }
   },
   "outputs": [
    {
     "output_type": "display_data",
     "data": {
      "image/png": "[encoded data removed]"
     },
     "metadata": {
      "application/vnd.databricks.v1+output": {
       "addedWidgets": {},
       "arguments": {},
       "data": "data:image/png;base64,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\n",
       "datasetInfos": [],
       "metadata": {},
       "removedWidgets": [],
       "type": "image"
      }
     },
     "output_type": "display_data"
    }
   ],
   "source": [
    "column_data=raw_par_10_phone_accel.select('x')\n",
    "histogram = column_data.rdd.flatMap(lambda x: x).histogram(4)\n",
    "\n",
    "# plot the histogram\n",
    "import matplotlib.pyplot as plt\n",
    "plt.hist(column_data.rdd.flatMap(lambda x: x).collect(), bins=50, color='green')\n",
    "plt.show()"
   ]
  },
  {
   "cell_type": "code",
   "execution_count": 0,
   "metadata": {
    "application/vnd.databricks.v1+cell": {
     "cellMetadata": {
      "byteLimit": 2048000,
      "rowLimit": 10000
     },
     "inputWidgets": {},
     "nuid": "b330dac6-0db2-4dec-bea1-c2f43ef49063",
     "showTitle": false,
     "title": ""
    }
   },
   "outputs": [
    {
     "output_type": "display_data",
     "data": {
      "image/png": "[encoded data removed]"
     },
     "metadata": {
      "application/vnd.databricks.v1+output": {
       "addedWidgets": {},
       "arguments": {},
       "data": "data:image/png;base64,iVBORw0KGgoAAAANSUhEUgAAAYMAAAD4CAYAAAAO9oqkAAAAOXRFWHRTb2Z0d2FyZQBNYXRwbG90bGliIHZlcnNpb24zLjQuMywgaHR0cHM6Ly9tYXRwbG90bGliLm9yZy/MnkTPAAAACXBIWXMAAAsTAAALEwEAmpwYAAASeUlEQVR4nO3de5CddX3H8fenieDdgKSUSUITx9QWnHbEHaSjdTrGQqDW4FQdnE6Jmmn+KLbayyiUPyIiM1JbqU4VJ5XU4DAiRS0Zi2JErNOZcgkXuQVkBZVkAlkJF1sqGv32j/NbPaxnk+w5mz1nyfs1s7PP831+z9nveXI2n30u5zmpKiRJh7ZfGXYDkqThMwwkSYaBJMkwkCRhGEiSgIXDbqBfRx11VC1fvnzYbUjSvHLzzTf/oKoWT63P2zBYvnw527ZtG3YbkjSvJPler7qHiSRJhoEkyTCQJGEYSJIwDCRJGAaSJAwDSRKGgSQJw0CSxDx+B7Kk+SvnpWe9NvhhW8PinoEkaf9hkGRTkt1J7uyqfTjJPUluT/LFJIu6lp2TZDzJvUlO6aqvbrXxJGd31VckuaHVP5fksFl8fpKkA3AgewafBlZPqW0FXl5Vvw18GzgHIMlxwBnA8W2dTyRZkGQB8HHgVOA44G1tLMCFwEVV9VLgUWDdQM9IkjRj+w2DqvomsGdK7atVtbfNXg8sbdNrgMur6qmqegAYB05sX+NVdX9V/Ri4HFiTJMDrgCvb+puB0wd7SpKkmZqNcwbvBL7cppcAD3Yt29Fq09VfDDzWFSyT9Z6SrE+yLcm2iYmJWWhdkgQDhkGSc4G9wGWz086+VdXGqhqrqrHFi3/psxkkSX3q+9LSJG8H3gCsqqrJ68F2Asu6hi1tNaapPwIsSrKw7R10j5ckzZG+9gySrAbeC7yxqp7sWrQFOCPJ4UlWACuBG4GbgJXtyqHD6Jxk3tJC5DrgzW39tcBV/T0VSVK/DuTS0s8C/w28LMmOJOuAfwZeAGxNcluSTwJU1V3AFcDdwFeAs6rqp+2v/ncB1wDbgSvaWID3AX+dZJzOOYRLZvUZSpL2a7+HiarqbT3K0/6HXVUXABf0qF8NXN2jfj+dq40kSUPiO5AlSYaBJMkwkCRhGEiSMAwkSRgGkiQMA0kShoEkCcNAkoRhIEnCMJAkYRhIkjAMJEkYBpIkDANJEoaBJAnDQJKEYSBJwjCQJGEYSJIwDCRJGAaSJAwDSRKGgSSJAwiDJJuS7E5yZ1ftyCRbk9zXvh/R6knysSTjSW5PckLXOmvb+PuSrO2qvzLJHW2djyXJbD9JSdK+HciewaeB1VNqZwPXVtVK4No2D3AqsLJ9rQcuhk54ABuAVwEnAhsmA6SN+bOu9ab+LEnSQbbfMKiqbwJ7ppTXAJvb9Gbg9K76pdVxPbAoyTHAKcDWqtpTVY8CW4HVbdkLq+r6qirg0q7HkiTNkX7PGRxdVbva9EPA0W16CfBg17gdrbav+o4edUnSHBr4BHL7i75moZf9SrI+ybYk2yYmJubiR0rSIaHfMHi4HeKhfd/d6juBZV3jlrbavupLe9R7qqqNVTVWVWOLFy/us3VJ0lT9hsEWYPKKoLXAVV31M9tVRScBj7fDSdcAJyc5op04Phm4pi17IslJ7SqiM7seS5I0Rxbub0CSzwK/DxyVZAedq4I+BFyRZB3wPeCtbfjVwGnAOPAk8A6AqtqT5HzgpjbuA1U1eVL6z+lcsfQc4MvtS9IzQM7zSvH5Yr9hUFVvm2bRqh5jCzhrmsfZBGzqUd8GvHx/fUiSDh7fgSxJMgwkSYaBJAnDQJKEYSBJwjCQJGEYSJIwDCRJGAaSJAwDSRKGgSQJw0CShGEgScIwkCRhGEiSMAwkSRgGkiQO4JPOJA3HdB8ZWRtqjjvRocA9A0mSYSBJMgwkSRgGkiQMA0kShoEkCcNAksSAYZDkr5LcleTOJJ9N8uwkK5LckGQ8yeeSHNbGHt7mx9vy5V2Pc06r35vklAGfkyRphvoOgyRLgL8Exqrq5cAC4AzgQuCiqnop8Ciwrq2yDni01S9q40hyXFvveGA18IkkC/rtS5I0c4MeJloIPCfJQuC5wC7gdcCVbflm4PQ2vabN05avSpJWv7yqnqqqB4Bx4MQB+5IkzUDfYVBVO4F/AL5PJwQeB24GHquqvW3YDmBJm14CPNjW3dvGv7i73mOdp0myPsm2JNsmJib6bV2SNEXf9yZKcgSdv+pXAI8B/0bnMM9BU1UbgY0AY2Nj3qBFzwjT3YNImkuDHCZ6PfBAVU1U1U+ALwCvBha1w0YAS4GdbXonsAygLX8R8Eh3vcc6kqQ5MEgYfB84Kclz27H/VcDdwHXAm9uYtcBVbXpLm6ct/3pVVauf0a42WgGsBG4coC9J0gz1fZioqm5IciVwC7AXuJXOIZz/AC5P8sFWu6StcgnwmSTjwB46VxBRVXcluYJOkOwFzqqqn/bbl3Qo87bX6tdAn2dQVRuADVPK99PjaqCq+hHwlmke5wLggkF6kST1z3cgS5IMA0mSYSBJwjCQJGEYSJIwDCRJGAaSJAwDSRKGgSQJw0CShGEgScIwkCRhGEiSMAwkSRgGkiQMA0kShoEkCcNAkoRhIEnCMJAkYRhIkjAMJEkYBpIkYOGwG5A0Mzkvw25Bz0DuGUiSBguDJIuSXJnkniTbk/xukiOTbE1yX/t+RBubJB9LMp7k9iQndD3O2jb+viRrB31SkqSZGXTP4KPAV6rqN4HfAbYDZwPXVtVK4No2D3AqsLJ9rQcuBkhyJLABeBVwIrBhMkAkSXOj7zBI8iLgtcAlAFX146p6DFgDbG7DNgOnt+k1wKXVcT2wKMkxwCnA1qraU1WPAluB1f32JUmauUH2DFYAE8C/Jrk1yaeSPA84uqp2tTEPAUe36SXAg13r72i16eq/JMn6JNuSbJuYmBigdUlSt0HCYCFwAnBxVb0C+F9+cUgIgKoqoAb4GU9TVRuraqyqxhYvXjxbDytJh7xBwmAHsKOqbmjzV9IJh4fb4R/a991t+U5gWdf6S1tturokaY70HQZV9RDwYJKXtdIq4G5gCzB5RdBa4Ko2vQU4s11VdBLweDucdA1wcpIj2onjk1tNkjRHBn3T2V8AlyU5DLgfeAedgLkiyTrge8Bb29irgdOAceDJNpaq2pPkfOCmNu4DVbVnwL4kSTMwUBhU1W3AWI9Fq3qMLeCsaR5nE7BpkF4kSf3zHciSJMNAkmQYSJIwDCRJGAaSJAwDSRKGgSQJw0CShGEgScIwkCRhGEiSMAwkSQx+11JJh5Ccl5712jBrn2GlIXHPQJJkGEiSDANJEoaBJAnDQJKEYSBJwjCQJGEYSJIwDCRJGAaSJAwDSRKzEAZJFiS5NcmX2vyKJDckGU/yuSSHtfrhbX68LV/e9RjntPq9SU4ZtCdJ0szMxp7Bu4HtXfMXAhdV1UuBR4F1rb4OeLTVL2rjSHIccAZwPLAa+ESSBbPQlyTpAA0UBkmWAn8IfKrNB3gdcGUbshk4vU2vafO05ava+DXA5VX1VFU9AIwDJw7SlyRpZgbdM/gn4L3Az9r8i4HHqmpvm98BLGnTS4AHAdryx9v4n9d7rPM0SdYn2ZZk28TExICtS5Im9R0GSd4A7K6qm2exn32qqo1VNVZVY4sXL56rHytJz3iDfLjNq4E3JjkNeDbwQuCjwKIkC9tf/0uBnW38TmAZsCPJQuBFwCNd9Und60iS5kDfewZVdU5VLa2q5XROAH+9qv4EuA54cxu2FriqTW9p87TlX6+qavUz2tVGK4CVwI399iVJmrmD8bGX7wMuT/JB4Fbgkla/BPhMknFgD50AoaruSnIFcDewFzirqn56EPqSJE1jVsKgqr4BfKNN30+Pq4Gq6kfAW6ZZ/wLggtnoRZI0c74DWZJ0UA4TSSMt56VnvTbUHHcijQ73DCRJhoEkycNE0pyZ7vCUNArcM5AkGQaSJMNAkoRhIEnCE8iSZoEnx+c/9wwkSYaBJMkwkCRhGEiSMAwkSRgGkiQMA0kShoEkCcNAkoRhIEnCMJAkYRhIkjAMJEkYBpIkDANJEgOEQZJlSa5LcneSu5K8u9WPTLI1yX3t+xGtniQfSzKe5PYkJ3Q91to2/r4kawd/WpKkmRhkz2Av8DdVdRxwEnBWkuOAs4Frq2olcG2bBzgVWNm+1gMXQyc8gA3Aq4ATgQ2TASJJmht9h0FV7aqqW9r0D4HtwBJgDbC5DdsMnN6m1wCXVsf1wKIkxwCnAFurak9VPQpsBVb325ckaeZm5WMvkywHXgHcABxdVbvaooeAo9v0EuDBrtV2tNp09V4/Zz2dvQqOPfbY2Whd0giZ7uMza0PNcSeHnoFPICd5PvB54D1V9UT3sqoqYNb+FatqY1WNVdXY4sWLZ+thJemQN1AYJHkWnSC4rKq+0MoPt8M/tO+7W30nsKxr9aWtNl1dkjRHBrmaKMAlwPaq+kjXoi3A5BVBa4GruupntquKTgIeb4eTrgFOTnJEO3F8cqtJkubIIOcMXg38KXBHktta7e+ADwFXJFkHfA94a1t2NXAaMA48CbwDoKr2JDkfuKmN+0BV7RmgL0nSDPUdBlX1X0Dvsz2wqsf4As6a5rE2AZv67UWSNBjfgSxJmp1LSyU9s0x3iaeeudwzkCQZBpIkw0CShGEgScIwkCRhGEiS8NJS6ZDmJaSa5J6BJMk9A0mjz885OPgMA+kQ4OEg7Y+HiSRJhoEkyTCQJOE5A0kaSXN90tw9A0mSewaS5i8vOZ097hlIktwzkPTMs6/3VbjX0Jt7BpIk9wwkHVo8z9CbYSBJzPyWHc+08DAMJKkPs3W/p1EJFcNAaryZm4ZhVF53IxMGSVYDHwUWAJ+qqg8NuSXNE6PyyyTNZyMRBkkWAB8H/gDYAdyUZEtV3T3czjQo/6OW5oeRCAPgRGC8qu4HSHI5sAYwDGbI/3wl9WNUwmAJ8GDX/A7gVVMHJVkPrG+z/5PkXuAo4AcHvcP+2d9g7G8w9jeYkesv73/aH3z99PfrvYqjEgYHpKo2Ahu7a0m2VdXYkFraL/sbjP0Nxv4Gcyj1NyrvQN4JLOuaX9pqkqQ5MCphcBOwMsmKJIcBZwBbhtyTJB0yRuIwUVXtTfIu4Bo6l5Zuqqq7DnD1jfsfMlT2Nxj7G4z9DeaQ6S9Vo/HuN0nS8IzKYSJJ0hAZBpKk+RkGST6c5J4ktyf5YpJFXcvOSTKe5N4kpwypv7ckuSvJz5KMddWXJ/m/JLe1r0+OUn9t2dC331RJ3p9kZ9d2O23YPUHnFiptO40nOXvY/UyV5LtJ7mjbbNsI9LMpye4kd3bVjkyyNcl97fsRI9bfyLz2kixLcl2Su9vv77tbfXa2YVXNuy/gZGBhm74QuLBNHwd8CzgcWAF8B1gwhP5+C3gZ8A1grKu+HLhzBLbfdP2NxPbr0e/7gb8ddh9TelrQts9LgMPadjtu2H1N6fG7wFHD7qOrn9cCJ3T/DgB/D5zdps+e/F0eof5G5rUHHAOc0KZfAHy7/c7Oyjacl3sGVfXVqtrbZq+n874E6NzC4vKqeqqqHgDG6dzqYq77215V9871zz1Q++hvJLbfPPHzW6hU1Y+ByVuoaBpV9U1gz5TyGmBzm94MnD6XPXWbpr+RUVW7quqWNv1DYDuduzfMyjacl2EwxTuBL7fpXre1WDLnHe3biiS3JvnPJL837GamGOXt9652WHDTMA8ldBnlbTWpgK8mubndymUUHV1Vu9r0Q8DRw2xmGqP22iPJcuAVwA3M0jYcifcZ9JLka8Cv9Vh0blVd1cacC+wFLpvL3trP3m9/PewCjq2qR5K8Evj3JMdX1RMj0t/Q7Ktf4GLgfDr/uZ0P/COdPwK0b6+pqp1JfhXYmuSe9tfvSKqqSjJq17qP3GsvyfOBzwPvqaonkl/cq2iQbTiyYVBVr9/X8iRvB94ArKp2sIw5vK3F/vqbZp2ngKfa9M1JvgP8BjDrJ/f66Y8h3hbkQPtN8i/Alw5yOwdi5G+hUlU72/fdSb5I59DWqIXBw0mOqapdSY4Bdg+7oW5V9fDk9Ci89pI8i04QXFZVX2jlWdmG8/IwUfsgnPcCb6yqJ7sWbQHOSHJ4khXASuDGYfTYS5LF7bMbSPISOv3dP9yunmYkt197gU96E3DndGPn0EjfQiXJ85K8YHKazkUXo7DdptoCrG3Ta4GR2msdpddeOrsAlwDbq+ojXYtmZxsO+wx5n2fVx+kcr72tfX2ya9m5dK7yuBc4dUj9vYnOMeSngIeBa1r9j4G7Ws+3AH80Sv2Nyvbr0e9ngDuA29sL/5hh99T6Oo3OFR3foXP4beg9dfX2EjpXOH2rveaG3h/wWTqHSn/SXn/rgBcD1wL3AV8Djhyx/kbmtQe8hs7hqtu7/u87bba2obejkCTNz8NEkqTZZRhIkgwDSZJhIEnCMJAkYRhIkjAMJEnA/wNx7xziKMO5xAAAAABJRU5ErkJggg==\n",
       "datasetInfos": [],
       "metadata": {},
       "removedWidgets": [],
       "type": "image"
      }
     },
     "output_type": "display_data"
    }
   ],
   "source": [
    "column_data=raw_par_10_phone_accel.select('y')\n",
    "histogram = column_data.rdd.flatMap(lambda x: x).histogram(4)\n",
    "\n",
    "# plot the histogram\n",
    "import matplotlib.pyplot as plt\n",
    "plt.hist(column_data.rdd.flatMap(lambda x: x).collect(), bins=50, color='green')\n",
    "plt.show()"
   ]
  },
  {
   "cell_type": "code",
   "execution_count": 0,
   "metadata": {
    "application/vnd.databricks.v1+cell": {
     "cellMetadata": {
      "byteLimit": 2048000,
      "rowLimit": 10000
     },
     "inputWidgets": {},
     "nuid": "f3e1db6e-99e5-4792-b9de-0570414e5baa",
     "showTitle": false,
     "title": ""
    }
   },
   "outputs": [
    {
     "output_type": "display_data",
     "data": {
      "image/png": "[encoded data removed]"
     },
     "metadata": {
      "application/vnd.databricks.v1+output": {
       "addedWidgets": {},
       "arguments": {},
       "data": "data:image/png;base64,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\n",
       "datasetInfos": [],
       "metadata": {},
       "removedWidgets": [],
       "type": "image"
      }
     },
     "output_type": "display_data"
    }
   ],
   "source": [
    "column_data=raw_par_10_phone_accel.select('z')\n",
    "histogram = column_data.rdd.flatMap(lambda x: x).histogram(4)\n",
    "\n",
    "# plot the histogram\n",
    "import matplotlib.pyplot as plt\n",
    "plt.hist(column_data.rdd.flatMap(lambda x: x).collect(), bins=50, color='green')\n",
    "plt.show()"
   ]
  },
  {
   "cell_type": "code",
   "execution_count": 0,
   "metadata": {
    "application/vnd.databricks.v1+cell": {
     "cellMetadata": {
      "byteLimit": 2048000,
      "rowLimit": 10000
     },
     "inputWidgets": {},
     "nuid": "3eeabe67-bcb0-4395-a363-177ba1d0559b",
     "showTitle": true,
     "title": "Fun to get Line chart of accel data per activity"
    }
   },
   "outputs": [],
   "source": [
    "def show_accel_per_activity(device, df, act, interval_in_sec = None):\n",
    "  ''' Plots acceleration time history per activity '''\n",
    "\n",
    "  df1 = df.loc[df.activity_code == act].copy()\n",
    "  df1.reset_index(drop = True, inplace = True)\n",
    "  \n",
    "  df1['duration'] = (df1['timestamp'] - df1['timestamp'].iloc[0])/1000000000 # nanoseconds --> seconds\n",
    "  \n",
    "  if interval_in_sec == None:\n",
    "    ax = df1[:].plot(kind='line', x='duration', y=['x','y','z'], figsize=(25,7), grid = True) # ,title = act)\n",
    "  else:\n",
    "    ax = df1[:interval_in_sec*20].plot(kind='line', x='duration', y=['x','y','z'], figsize=(25,7), grid = True) # ,title = act)\n",
    "\n",
    "  ax.set_xlabel('duration  (sec)', fontsize = 15)\n",
    "  ax.set_ylabel('acceleration  (m/sec^2)',fontsize = 15)\n",
    "  ax.set_title('Acceleration:   Device: ' + device + '      Activity:  ' +activity_codes_mapping[act], fontsize = 15)"
   ]
  },
  {
   "cell_type": "code",
   "execution_count": 0,
   "metadata": {
    "application/vnd.databricks.v1+cell": {
     "cellMetadata": {
      "byteLimit": 2048000,
      "rowLimit": 10000
     },
     "inputWidgets": {},
     "nuid": "2245fb15-a673-4d57-b5a6-2524cfe84af2",
     "showTitle": false,
     "title": ""
    }
   },
   "outputs": [],
   "source": [
    "raw_par_10_phone_accel_pan=raw_par_10_phone_accel.toPandas()"
   ]
  },
  {
   "cell_type": "code",
   "execution_count": 0,
   "metadata": {
    "application/vnd.databricks.v1+cell": {
     "cellMetadata": {
      "byteLimit": 2048000,
      "rowLimit": 10000
     },
     "inputWidgets": {},
     "nuid": "bf5070fe-4cb4-4d30-9950-2126c9b63a1f",
     "showTitle": false,
     "title": ""
    }
   },
   "outputs": [],
   "source": [
    "for key in activity_codes_mapping:\n",
    "  show_accel_per_activity('Phone', raw_par_10_phone_accel_pan, key, 10)"
   ]
  },
  {
   "cell_type": "code",
   "execution_count": 0,
   "metadata": {
    "application/vnd.databricks.v1+cell": {
     "cellMetadata": {
      "byteLimit": 2048000,
      "rowLimit": 10000
     },
     "inputWidgets": {},
     "nuid": "23aaf046-6b80-4b5c-9bbe-ad13fba1beae",
     "showTitle": true,
     "title": "Reading accel data of user 20"
    }
   },
   "outputs": [],
   "source": [
    "col = ['participant_id' , 'activity_code' , 'timestamp', 'x', 'y', 'z']\n",
    "raw_par_20_watch_accel = spark.read.format(\"csv\") \\\n",
    "             .option(\"header\", \"false\") \\\n",
    "             .option(\"inferSchema\", \"true\") \\\n",
    "             .option(\"delimiter\", \",\") \\\n",
    "             .load(\"s3://humanactivity/wisdm-dataset/raw/watch/accel/data_1620_accel_watch.txt\") \\\n",
    "             .toDF(*col)\n",
    "\n",
    "display(raw_par_20_watch_accel)"
   ]
  },
  {
   "cell_type": "code",
   "execution_count": 0,
   "metadata": {
    "application/vnd.databricks.v1+cell": {
     "cellMetadata": {
      "byteLimit": 2048000,
      "rowLimit": 10000
     },
     "inputWidgets": {},
     "nuid": "c8d47d7c-7c8d-44a5-9142-ae79fcc8d593",
     "showTitle": false,
     "title": ""
    }
   },
   "outputs": [],
   "source": [
    "from pyspark.sql.functions import regexp_replace\n",
    "raw_par_20_watch_accel=raw_par_20_watch_accel.withColumn('z',regexp_replace('z',';',''))\n"
   ]
  },
  {
   "cell_type": "code",
   "execution_count": 0,
   "metadata": {
    "application/vnd.databricks.v1+cell": {
     "cellMetadata": {
      "byteLimit": 2048000,
      "rowLimit": 10000
     },
     "inputWidgets": {},
     "nuid": "35ce9bbc-2be1-4a34-a9e2-cf7c07025a9e",
     "showTitle": false,
     "title": ""
    }
   },
   "outputs": [],
   "source": [
    "from pyspark.sql.types import DoubleType\n",
    "raw_par_20_watch_accel = raw_par_20_watch_accel.withColumn(\"z\", col(\"z\").cast(DoubleType()))"
   ]
  },
  {
   "cell_type": "code",
   "execution_count": 0,
   "metadata": {
    "application/vnd.databricks.v1+cell": {
     "cellMetadata": {
      "byteLimit": 2048000,
      "rowLimit": 10000
     },
     "inputWidgets": {},
     "nuid": "510fb07e-1a83-444b-a939-1eff08f7dda5",
     "showTitle": false,
     "title": ""
    }
   },
   "outputs": [
    {
     "output_type": "stream",
     "name": "stdout",
     "output_type": "stream",
     "text": [
      "Out[24]: [('participant_id', 'int'),\n ('activity_code', 'string'),\n ('timestamp', 'bigint'),\n ('x', 'double'),\n ('y', 'double'),\n ('z', 'double')]"
     ]
    }
   ],
   "source": [
    "raw_par_20_watch_accel.dtypes"
   ]
  },
  {
   "cell_type": "code",
   "execution_count": 0,
   "metadata": {
    "application/vnd.databricks.v1+cell": {
     "cellMetadata": {
      "byteLimit": 2048000,
      "rowLimit": 10000
     },
     "inputWidgets": {},
     "nuid": "599410cd-8c80-4110-bb4c-74fd05de0271",
     "showTitle": false,
     "title": ""
    }
   },
   "outputs": [],
   "source": [
    "from pyspark.sql.functions import unix_timestamp\n",
    "raw_par_20_watch_accel = raw_par_20_watch_accel.withColumn('timestamp', col('timestamp').cast('timestamp'))"
   ]
  },
  {
   "cell_type": "code",
   "execution_count": 0,
   "metadata": {
    "application/vnd.databricks.v1+cell": {
     "cellMetadata": {
      "byteLimit": 2048000,
      "rowLimit": 10000
     },
     "inputWidgets": {},
     "nuid": "9c2e04b0-9cee-4944-8acf-de7dc7a78627",
     "showTitle": false,
     "title": ""
    }
   },
   "outputs": [
    {
     "output_type": "stream",
     "name": "stdout",
     "output_type": "stream",
     "text": [
      "+--------------+-------------+--------------------+---------+----------+----------+\n|participant_id|activity_code|           timestamp|        x|         y|         z|\n+--------------+-------------+--------------------+---------+----------+----------+\n|          1620|            A|+35310-10-16 07:3...|3.4174237|-2.1649568| -4.849306|\n|          1620|            A|+35312-05-11 05:3...|5.4237647|-6.9366007| -4.954651|\n|          1620|            A|+35313-12-05 03:3...|4.7007155| -3.127426|-7.6481276|\n|          1620|            A|+35315-07-01 01:3...| 8.033444|-4.7004166|-5.0240827|\n+--------------+-------------+--------------------+---------+----------+----------+\nonly showing top 4 rows\n\n"
     ]
    }
   ],
   "source": [
    "raw_par_20_watch_accel.show(4)"
   ]
  },
  {
   "cell_type": "code",
   "execution_count": 0,
   "metadata": {
    "application/vnd.databricks.v1+cell": {
     "cellMetadata": {
      "byteLimit": 2048000,
      "rowLimit": 10000
     },
     "inputWidgets": {},
     "nuid": "d92763c4-b7d7-4802-a9fa-013fe80f5514",
     "showTitle": false,
     "title": ""
    }
   },
   "outputs": [
    {
     "output_type": "stream",
     "name": "stdout",
     "output_type": "stream",
     "text": [
      "Out[12]: [('participant_id', 'int'),\n ('activity_code', 'string'),\n ('timestamp', 'timestamp'),\n ('x', 'double'),\n ('y', 'double'),\n ('z', 'double')]"
     ]
    }
   ],
   "source": [
    "raw_par_20_watch_accel.dtypes"
   ]
  },
  {
   "cell_type": "code",
   "execution_count": 0,
   "metadata": {
    "application/vnd.databricks.v1+cell": {
     "cellMetadata": {
      "byteLimit": 2048000,
      "rowLimit": 10000
     },
     "inputWidgets": {},
     "nuid": "c716e910-a55b-43e4-9031-fefb196a4e23",
     "showTitle": false,
     "title": ""
    }
   },
   "outputs": [
    {
     "output_type": "stream",
     "name": "stdout",
     "output_type": "stream",
     "text": [
      "participant_id 0\nactivity_code 0\ntimestamp 0\nx 0\ny 0\nz 0\n"
     ]
    }
   ],
   "source": [
    "from pyspark.sql.functions import *\n",
    "columns = ['participant_id','activity_code','timestamp', 'x','y','z']\n",
    "for i in columns:\n",
    "    print(i,raw_par_20_watch_accel.filter(raw_par_20_watch_accel[i].isNull()).count())"
   ]
  },
  {
   "cell_type": "code",
   "execution_count": 0,
   "metadata": {
    "application/vnd.databricks.v1+cell": {
     "cellMetadata": {
      "byteLimit": 2048000,
      "rowLimit": 10000
     },
     "inputWidgets": {},
     "nuid": "db503397-c521-4ecc-b603-14020fa2a316",
     "showTitle": true,
     "title": "Histogram"
    }
   },
   "outputs": [
    {
     "output_type": "display_data",
     "data": {
      "image/png": "[encoded data removed]"
     },
     "metadata": {
      "application/vnd.databricks.v1+output": {
       "addedWidgets": {},
       "arguments": {},
       "data": "data:image/png;base64,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\n",
       "datasetInfos": [],
       "metadata": {},
       "removedWidgets": [],
       "type": "image"
      }
     },
     "output_type": "display_data"
    }
   ],
   "source": [
    "column_data=raw_par_20_watch_accel.select('x')\n",
    "histogram = column_data.rdd.flatMap(lambda x: x).histogram(4)\n",
    "\n",
    "# plot the histogram\n",
    "import matplotlib.pyplot as plt\n",
    "plt.hist(column_data.rdd.flatMap(lambda x: x).collect(), bins=50, color='green')\n",
    "plt.show()"
   ]
  },
  {
   "cell_type": "code",
   "execution_count": 0,
   "metadata": {
    "application/vnd.databricks.v1+cell": {
     "cellMetadata": {
      "byteLimit": 2048000,
      "rowLimit": 10000
     },
     "inputWidgets": {},
     "nuid": "73acee75-9f35-4d57-82c7-8479d0ef7984",
     "showTitle": false,
     "title": ""
    }
   },
   "outputs": [
    {
     "output_type": "display_data",
     "data": {
      "image/png": "[encoded data removed]"
     },
     "metadata": {
      "application/vnd.databricks.v1+output": {
       "addedWidgets": {},
       "arguments": {},
       "data": "data:image/png;base64,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\n",
       "datasetInfos": [],
       "metadata": {},
       "removedWidgets": [],
       "type": "image"
      }
     },
     "output_type": "display_data"
    }
   ],
   "source": [
    "column_data=raw_par_20_watch_accel.select('y')\n",
    "histogram = column_data.rdd.flatMap(lambda x: x).histogram(4)\n",
    "\n",
    "# plot the histogram\n",
    "import matplotlib.pyplot as plt\n",
    "plt.hist(column_data.rdd.flatMap(lambda x: x).collect(), bins=50, color='green')\n",
    "plt.show()"
   ]
  },
  {
   "cell_type": "code",
   "execution_count": 0,
   "metadata": {
    "application/vnd.databricks.v1+cell": {
     "cellMetadata": {
      "byteLimit": 2048000,
      "rowLimit": 10000
     },
     "inputWidgets": {},
     "nuid": "623f6927-ce45-460d-b62c-b5f24b95c7f8",
     "showTitle": false,
     "title": ""
    }
   },
   "outputs": [
    {
     "output_type": "display_data",
     "data": {
      "image/png": "[encoded data removed]"
     },
     "metadata": {
      "application/vnd.databricks.v1+output": {
       "addedWidgets": {},
       "arguments": {},
       "data": "data:image/png;base64,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\n",
       "datasetInfos": [],
       "metadata": {},
       "removedWidgets": [],
       "type": "image"
      }
     },
     "output_type": "display_data"
    }
   ],
   "source": [
    "column_data=raw_par_20_watch_accel.select('z')\n",
    "histogram = column_data.rdd.flatMap(lambda x: x).histogram(4)\n",
    "\n",
    "# plot the histogram\n",
    "import matplotlib.pyplot as plt\n",
    "plt.hist(column_data.rdd.flatMap(lambda x: x).collect(), bins=50, color='green')\n",
    "plt.show()"
   ]
  },
  {
   "cell_type": "code",
   "execution_count": 0,
   "metadata": {
    "application/vnd.databricks.v1+cell": {
     "cellMetadata": {
      "byteLimit": 2048000,
      "rowLimit": 10000
     },
     "inputWidgets": {},
     "nuid": "ddddd65b-f4c8-4fb5-b0ce-8662834726f8",
     "showTitle": false,
     "title": ""
    }
   },
   "outputs": [],
   "source": [
    "raw_par_20_watch_accel_pan=raw_par_20_watch_accel.toPandas()"
   ]
  },
  {
   "cell_type": "code",
   "execution_count": 0,
   "metadata": {
    "application/vnd.databricks.v1+cell": {
     "cellMetadata": {
      "byteLimit": 2048000,
      "rowLimit": 10000
     },
     "inputWidgets": {},
     "nuid": "491e7559-e047-4268-85e8-d69ae499ac9b",
     "showTitle": false,
     "title": ""
    }
   },
   "outputs": [],
   "source": [
    "for key in activity_codes_mapping:\n",
    "  show_accel_per_activity('Watch', raw_par_20_watch_accel_pan, key, 10)"
   ]
  },
  {
   "cell_type": "code",
   "execution_count": 0,
   "metadata": {
    "application/vnd.databricks.v1+cell": {
     "cellMetadata": {
      "byteLimit": 2048000,
      "rowLimit": 10000
     },
     "inputWidgets": {},
     "nuid": "d64d51c1-c2e6-44e8-9eaa-2772b0d927a2",
     "showTitle": true,
     "title": "Reading gyro data of user 35"
    }
   },
   "outputs": [],
   "source": [
    "col = ['participant_id' , 'activity_code' , 'timestamp', 'x', 'y', 'z']\n",
    "raw_par_35_phone_gyro = spark.read.format(\"csv\") \\\n",
    "             .option(\"header\", \"false\") \\\n",
    "             .option(\"inferSchema\", \"true\") \\\n",
    "             .option(\"delimiter\", \",\") \\\n",
    "             .load(\"s3://humanactivity/wisdm-dataset/raw/phone/gyro/data_1635_gyro_phone.txt\") \\\n",
    "             .toDF(*col)\n",
    "\n",
    "display(raw_par_35_phone_gyro)"
   ]
  },
  {
   "cell_type": "code",
   "execution_count": 0,
   "metadata": {
    "application/vnd.databricks.v1+cell": {
     "cellMetadata": {
      "byteLimit": 2048000,
      "rowLimit": 10000
     },
     "inputWidgets": {},
     "nuid": "35bbfea1-0212-4d34-8808-459a85bd3141",
     "showTitle": false,
     "title": ""
    }
   },
   "outputs": [],
   "source": [
    "raw_par_35_phone_gyro=raw_par_35_phone_gyro.withColumn('z',regexp_replace('z',';',''))\n"
   ]
  },
  {
   "cell_type": "code",
   "execution_count": 0,
   "metadata": {
    "application/vnd.databricks.v1+cell": {
     "cellMetadata": {
      "byteLimit": 2048000,
      "rowLimit": 10000
     },
     "inputWidgets": {},
     "nuid": "b72ba1ae-1917-4c36-9792-fbe5d26b9878",
     "showTitle": false,
     "title": ""
    }
   },
   "outputs": [
    {
     "output_type": "stream",
     "name": "stdout",
     "output_type": "stream",
     "text": [
      "Out[39]: [('participant_id', 'int'),\n ('activity_code', 'string'),\n ('timestamp', 'bigint'),\n ('x', 'double'),\n ('y', 'double'),\n ('z', 'double')]"
     ]
    }
   ],
   "source": [
    "from pyspark.sql.functions import col\n",
    "raw_par_35_phone_gyro = raw_par_35_phone_gyro.withColumn(\"z\", col(\"z\").cast(DoubleType()))\n",
    "raw_par_35_phone_gyro.dtypes\n"
   ]
  },
  {
   "cell_type": "code",
   "execution_count": 0,
   "metadata": {
    "application/vnd.databricks.v1+cell": {
     "cellMetadata": {
      "byteLimit": 2048000,
      "rowLimit": 10000
     },
     "inputWidgets": {},
     "nuid": "4c70cd7c-1496-4c9f-9a01-460ebb1f606b",
     "showTitle": true,
     "title": "Null Value Check"
    }
   },
   "outputs": [
    {
     "output_type": "stream",
     "name": "stdout",
     "output_type": "stream",
     "text": [
      "participant_id 0\nactivity_code 0\ntimestamp 0\nx 0\ny 0\nz 0\n"
     ]
    }
   ],
   "source": [
    "from pyspark.sql.functions import *\n",
    "columns = ['participant_id','activity_code','timestamp', 'x','y','z']\n",
    "for i in columns:\n",
    "    print(i,raw_par_35_phone_gyro.filter(raw_par_35_phone_gyro[i].isNull()).count())\n"
   ]
  },
  {
   "cell_type": "code",
   "execution_count": 0,
   "metadata": {
    "application/vnd.databricks.v1+cell": {
     "cellMetadata": {
      "byteLimit": 2048000,
      "rowLimit": 10000
     },
     "inputWidgets": {},
     "nuid": "c4866f4b-a773-433a-801c-150ce82a39bf",
     "showTitle": true,
     "title": "Histogram"
    }
   },
   "outputs": [],
   "source": [
    "column_data=raw_par_35_phone_gyro.select('x')\n",
    "histogram = column_data.rdd.flatMap(lambda x: x).histogram(4)\n",
    "\n",
    "# plot the histogram\n",
    "import matplotlib.pyplot as plt\n",
    "plt.hist(column_data.rdd.flatMap(lambda x: x).collect(), bins=50, color='green')\n",
    "plt.show()\n",
    "\n",
    "\n",
    "column_data=raw_par_35_phone_gyro.select('y')\n",
    "histogram = column_data.rdd.flatMap(lambda x: x).histogram(4)\n",
    "\n",
    "# plot the histogram\n",
    "import matplotlib.pyplot as plt\n",
    "plt.hist(column_data.rdd.flatMap(lambda x: x).collect(), bins=50, color='green')\n",
    "plt.show()\n",
    "\n",
    "\n",
    "\n",
    "column_data=raw_par_35_phone_gyro.select('z')\n",
    "histogram = column_data.rdd.flatMap(lambda x: x).histogram(4)\n",
    "\n",
    "# plot the histogram\n",
    "import matplotlib.pyplot as plt\n",
    "plt.hist(column_data.rdd.flatMap(lambda x: x).collect(), bins=50, color='green')\n",
    "plt.show()"
   ]
  },
  {
   "cell_type": "code",
   "execution_count": 0,
   "metadata": {
    "application/vnd.databricks.v1+cell": {
     "cellMetadata": {
      "byteLimit": 2048000,
      "rowLimit": 10000
     },
     "inputWidgets": {},
     "nuid": "31f24ea5-899a-46b8-9d8d-c16b4083626e",
     "showTitle": false,
     "title": ""
    }
   },
   "outputs": [],
   "source": [
    "raw_par_35_phone_gyro_pan=raw_par_35_phone_gyro.toPandas()"
   ]
  },
  {
   "cell_type": "code",
   "execution_count": 0,
   "metadata": {
    "application/vnd.databricks.v1+cell": {
     "cellMetadata": {
      "byteLimit": 2048000,
      "rowLimit": 10000
     },
     "inputWidgets": {},
     "nuid": "c4ca7a65-3c0f-4c84-b0dd-33921c24d5e5",
     "showTitle": true,
     "title": "Fun to get line chart of angular velocity per activity"
    }
   },
   "outputs": [],
   "source": [
    "def show_ang_velocity_per_activity(device, df, act, interval_in_sec = None):\n",
    "  ''' Plots angular volocity time history per activity '''\n",
    "\n",
    "  df1 = df.loc[df.activity_code == act].copy()\n",
    "  df1.reset_index(drop = True, inplace = True)\n",
    "\n",
    "  df1['duration'] = (df1['timestamp'] - df1['timestamp'].iloc[0])/1000000000 # nanoseconds --> seconds\n",
    "\n",
    "  if interval_in_sec == None:\n",
    "    ax = df1[:].plot(kind='line', x='duration', y=['x','y','z'], figsize=(25,7), grid = True) # ,title = act)\n",
    "  else:\n",
    "    ax = df1[:interval_in_sec*20].plot(kind='line', x='duration', y=['x','y','z'], figsize=(25,7), grid = True) # ,title = act)\n",
    "\n",
    "  ax.set_xlabel('duration  (sec)', fontsize = 15)\n",
    "  ax.set_ylabel('angular velocity  (rad/sec)',fontsize = 15)\n",
    "  ax.set_title('Angular velocity:  Device: ' + device + '      Activity:  ' +activity_codes_mapping[act] , fontsize = 15)"
   ]
  },
  {
   "cell_type": "code",
   "execution_count": 0,
   "metadata": {
    "application/vnd.databricks.v1+cell": {
     "cellMetadata": {
      "byteLimit": 2048000,
      "rowLimit": 10000
     },
     "inputWidgets": {},
     "nuid": "659daebd-aa01-48eb-9e76-76c06203112e",
     "showTitle": false,
     "title": ""
    }
   },
   "outputs": [],
   "source": [
    "for key in activity_codes_mapping:\n",
    "  show_ang_velocity_per_activity('Phone', raw_par_35_phone_gyro_pan, key)"
   ]
  },
  {
   "cell_type": "code",
   "execution_count": 0,
   "metadata": {
    "application/vnd.databricks.v1+cell": {
     "cellMetadata": {
      "byteLimit": 2048000,
      "rowLimit": 10000
     },
     "inputWidgets": {},
     "nuid": "1346243a-ac35-4b59-bd97-d52cc491384a",
     "showTitle": false,
     "title": ""
    }
   },
   "outputs": [],
   "source": [
    "col = ['participant_id' , 'activity_code' , 'timestamp', 'x', 'y', 'z']\n",
    "raw_par_35_watch_gyro = spark.read.format(\"csv\") \\\n",
    "             .option(\"header\", \"false\") \\\n",
    "             .option(\"inferSchema\", \"true\") \\\n",
    "             .option(\"delimiter\", \",\") \\\n",
    "             .load(\"s3://humanactivity/wisdm-dataset/raw/watch/gyro/data_1635_gyro_watch.txt\") \\\n",
    "             .toDF(*col)\n",
    "\n",
    "display(raw_par_35_watch_gyro)"
   ]
  },
  {
   "cell_type": "code",
   "execution_count": 0,
   "metadata": {
    "application/vnd.databricks.v1+cell": {
     "cellMetadata": {
      "byteLimit": 2048000,
      "rowLimit": 10000
     },
     "inputWidgets": {},
     "nuid": "6efa2d0e-c775-45e3-9d0b-4a2071c3e1bc",
     "showTitle": false,
     "title": ""
    }
   },
   "outputs": [],
   "source": [
    "raw_par_35_watch_gyro=raw_par_35_watch_gyro.withColumn('z',regexp_replace('z',';',''))"
   ]
  },
  {
   "cell_type": "code",
   "execution_count": 0,
   "metadata": {
    "application/vnd.databricks.v1+cell": {
     "cellMetadata": {
      "byteLimit": 2048000,
      "rowLimit": 10000
     },
     "inputWidgets": {},
     "nuid": "4d7143f9-17fd-4605-a46f-92038f122d35",
     "showTitle": false,
     "title": ""
    }
   },
   "outputs": [
    {
     "output_type": "stream",
     "name": "stdout",
     "output_type": "stream",
     "text": [
      "Out[60]: [('participant_id', 'int'),\n ('activity_code', 'string'),\n ('timestamp', 'bigint'),\n ('x', 'double'),\n ('y', 'double'),\n ('z', 'double')]"
     ]
    }
   ],
   "source": [
    "from pyspark.sql.functions import col\n",
    "raw_par_35_watch_gyro = raw_par_35_watch_gyro.withColumn(\"z\", col(\"z\").cast(DoubleType()))\n",
    "raw_par_35_watch_gyro.dtypes"
   ]
  },
  {
   "cell_type": "code",
   "execution_count": 0,
   "metadata": {
    "application/vnd.databricks.v1+cell": {
     "cellMetadata": {
      "byteLimit": 2048000,
      "rowLimit": 10000
     },
     "inputWidgets": {},
     "nuid": "7582f38a-cb8f-4262-a15c-c476575f9449",
     "showTitle": true,
     "title": "Null Value Check"
    }
   },
   "outputs": [
    {
     "output_type": "stream",
     "name": "stdout",
     "output_type": "stream",
     "text": [
      "participant_id 0\nactivity_code 0\ntimestamp 0\nx 0\ny 0\nz 0\n"
     ]
    }
   ],
   "source": [
    "from pyspark.sql.functions import *\n",
    "columns = ['participant_id','activity_code','timestamp', 'x','y','z']\n",
    "for i in columns:\n",
    "    print(i,raw_par_35_watch_gyro.filter(raw_par_35_watch_gyro[i].isNull()).count())"
   ]
  },
  {
   "cell_type": "code",
   "execution_count": 0,
   "metadata": {
    "application/vnd.databricks.v1+cell": {
     "cellMetadata": {
      "byteLimit": 2048000,
      "rowLimit": 10000
     },
     "inputWidgets": {},
     "nuid": "ed2a6c7d-c816-484d-b918-f2dd56261baf",
     "showTitle": true,
     "title": "Histogram"
    }
   },
   "outputs": [],
   "source": [
    "column_data=raw_par_35_watch_gyro.select('x')\n",
    "histogram = column_data.rdd.flatMap(lambda x: x).histogram(4)\n",
    "\n",
    "# plot the histogram\n",
    "import matplotlib.pyplot as plt\n",
    "plt.hist(column_data.rdd.flatMap(lambda x: x).collect(), bins=50, color='green')\n",
    "plt.show()\n",
    "\n",
    "\n",
    "column_data=raw_par_35_watch_gyro.select('y')\n",
    "histogram = column_data.rdd.flatMap(lambda x: x).histogram(4)\n",
    "\n",
    "# plot the histogram\n",
    "import matplotlib.pyplot as plt\n",
    "plt.hist(column_data.rdd.flatMap(lambda x: x).collect(), bins=50, color='green')\n",
    "plt.show()\n",
    "\n",
    "\n",
    "\n",
    "column_data=raw_par_35_watch_gyro.select('z')\n",
    "histogram = column_data.rdd.flatMap(lambda x: x).histogram(4)\n",
    "\n",
    "# plot the histogram\n",
    "import matplotlib.pyplot as plt\n",
    "plt.hist(column_data.rdd.flatMap(lambda x: x).collect(), bins=50, color='green')\n",
    "plt.show()"
   ]
  },
  {
   "cell_type": "code",
   "execution_count": 0,
   "metadata": {
    "application/vnd.databricks.v1+cell": {
     "cellMetadata": {
      "byteLimit": 2048000,
      "rowLimit": 10000
     },
     "inputWidgets": {},
     "nuid": "82c04226-5cbc-402a-964d-691429547801",
     "showTitle": false,
     "title": ""
    }
   },
   "outputs": [],
   "source": [
    "raw_par_35_watch_gyro_pan=raw_par_35_watch_gyro.toPandas()"
   ]
  },
  {
   "cell_type": "code",
   "execution_count": 0,
   "metadata": {
    "application/vnd.databricks.v1+cell": {
     "cellMetadata": {
      "byteLimit": 2048000,
      "rowLimit": 10000
     },
     "inputWidgets": {},
     "nuid": "18634242-b1ee-4c3f-9bef-2f29ffa8dc98",
     "showTitle": true,
     "title": "Line-Charts By Activity"
    }
   },
   "outputs": [],
   "source": [
    "for key in activity_codes_mapping:\n",
    "  show_ang_velocity_per_activity('Watch', raw_par_35_watch_gyro_pan, key)"
   ]
  },
  {
   "cell_type": "code",
   "execution_count": 0,
   "metadata": {
    "application/vnd.databricks.v1+cell": {
     "cellMetadata": {
      "byteLimit": 2048000,
      "rowLimit": 10000
     },
     "inputWidgets": {},
     "nuid": "766d9dc7-7000-4fa0-8703-0ff942ee6b73",
     "showTitle": false,
     "title": ""
    }
   },
   "outputs": [
    {
     "output_type": "stream",
     "name": "stdout",
     "output_type": "stream",
     "text": [
      "Out[1]: 93"
     ]
    }
   ],
   "source": [
    "features = ['ACTIVITY',\n",
    "            'X0', # 1st bin fraction of x axis acceleration distribution\n",
    "            'X1', # 2nd bin fraction ...\n",
    "            'X2',\n",
    "            'X3',\n",
    "            'X4',\n",
    "            'X5',\n",
    "            'X6',\n",
    "            'X7',\n",
    "            'X8',\n",
    "            'X9',\n",
    "            'Y0', # 1st bin fraction of y axis acceleration distribution\n",
    "            'Y1', # 2nd bin fraction ...\n",
    "            'Y2',\n",
    "            'Y3',\n",
    "            'Y4',\n",
    "            'Y5',\n",
    "            'Y6',\n",
    "            'Y7',\n",
    "            'Y8',\n",
    "            'Y9',\n",
    "            'Z0', # 1st bin fraction of z axis acceleration distribution\n",
    "            'Z1', # 2nd bin fraction ...\n",
    "            'Z2',\n",
    "            'Z3',\n",
    "            'Z4',\n",
    "            'Z5',\n",
    "            'Z6',\n",
    "            'Z7',\n",
    "            'Z8',\n",
    "            'Z9',\n",
    "            'XAVG', # average sensor value over the window (per axis)\n",
    "            'YAVG',\n",
    "            'ZAVG',\n",
    "            'XPEAK', # Time in milliseconds between the peaks in the wave associated with most activities. heuristically determined (per axis)\n",
    "            'YPEAK',\n",
    "            'ZPEAK',\n",
    "            'XABSOLDEV', # Average absolute difference between the each of the 200 readings and the mean of those values (per axis)\n",
    "            'YABSOLDEV',\n",
    "            'ZABSOLDEV',\n",
    "            'XSTANDDEV', # Standard deviation of the 200 window's values (per axis)  ***BUG!***\n",
    "            'YSTANDDEV',\n",
    "            'ZSTANDDEV',\n",
    "            'XVAR', # Variance of the 200 window's values (per axis)   ***BUG!***\n",
    "            'YVAR',\n",
    "            'ZVAR',\n",
    "            'XMFCC0', # short-term power spectrum of a wave, based on a linear cosine transform of a log power spectrum on a non-linear mel scale of frequency (13 values per axis)\n",
    "            'XMFCC1',\n",
    "            'XMFCC2',\n",
    "            'XMFCC3',\n",
    "            'XMFCC4',\n",
    "            'XMFCC5',\n",
    "            'XMFCC6',\n",
    "            'XMFCC7',\n",
    "            'XMFCC8',\n",
    "            'XMFCC9',\n",
    "            'XMFCC10',\n",
    "            'XMFCC11',\n",
    "            'XMFCC12',\n",
    "            'YMFCC0', # short-term power spectrum of a wave, based on a linear cosine transform of a log power spectrum on a non-linear mel scale of frequency (13 values per axis)\n",
    "            'YMFCC1',\n",
    "            'YMFCC2',\n",
    "            'YMFCC3',\n",
    "            'YMFCC4',\n",
    "            'YMFCC5',\n",
    "            'YMFCC6',\n",
    "            'YMFCC7',\n",
    "            'YMFCC8',\n",
    "            'YMFCC9',\n",
    "            'YMFCC10',\n",
    "            'YMFCC11',\n",
    "            'YMFCC12',\n",
    "            'ZMFCC0', # short-term power spectrum of a wave, based on a linear cosine transform of a log power spectrum on a non-linear mel scale of frequency (13 values per axis)\n",
    "            'ZMFCC1',\n",
    "            'ZMFCC2',\n",
    "            'ZMFCC3',\n",
    "            'ZMFCC4',\n",
    "            'ZMFCC5',\n",
    "            'ZMFCC6',\n",
    "            'ZMFCC7',\n",
    "            'ZMFCC8',\n",
    "            'ZMFCC9',\n",
    "            'ZMFCC10',\n",
    "            'ZMFCC11',\n",
    "            'ZMFCC12',\n",
    "            'XYCOS', # The cosine distances between sensor values for pairs of axes (three pairs of axes)\n",
    "            'XZCOS',\n",
    "            'YZCOS',\n",
    "            'XYCOR', # The correlation between sensor values for pairs of axes (three pairs of axes)\n",
    "            'XZCOR',\n",
    "            'YZCOR',\n",
    "            'RESULTANT', # Average resultant value, computed by squaring each matching x, y, and z value, summing them, taking the square root, and then averaging these values over the 200 readings\n",
    "            'PARTICIPANT'] # Categirical: 1600 -1650\n",
    "\n",
    "len(features)"
   ]
  },
  {
   "cell_type": "code",
   "execution_count": 0,
   "metadata": {
    "application/vnd.databricks.v1+cell": {
     "cellMetadata": {
      "byteLimit": 2048000,
      "rowLimit": 10000
     },
     "inputWidgets": {},
     "nuid": "3f2aca2c-e68a-4378-95dc-707eed55fe10",
     "showTitle": true,
     "title": "Feature Dataset"
    }
   },
   "outputs": [
    {
     "output_type": "stream",
     "name": "stdout",
     "output_type": "stream",
     "text": [
      "+-----+\n|   X0|\n+-----+\n|0.235|\n|0.275|\n| 0.32|\n|0.315|\n+-----+\nonly showing top 4 rows\n\n"
     ]
    }
   ],
   "source": [
    "path = 's3://humanactivity/wisdm-dataset/arff_files/phone/all_phone_accel'\n",
    "all_phone_accel = spark.read.csv(path,header=True)\n",
    "all_phone_accel.select(\"X0\").show(4)\n"
   ]
  },
  {
   "cell_type": "code",
   "execution_count": 0,
   "metadata": {
    "application/vnd.databricks.v1+cell": {
     "cellMetadata": {
      "byteLimit": 2048000,
      "rowLimit": 10000
     },
     "inputWidgets": {},
     "nuid": "ffe5464a-3631-4043-b179-194f8ab4d30e",
     "showTitle": false,
     "title": ""
    }
   },
   "outputs": [
    {
     "output_type": "stream",
     "name": "stdout",
     "output_type": "stream",
     "text": [
      "Out[29]: ['ACTIVITY',\n 'X0',\n 'X1',\n 'X2',\n 'X3',\n 'X4',\n 'X5',\n 'X6',\n 'X7',\n 'X8',\n 'X9',\n 'Y0',\n 'Y1',\n 'Y2',\n 'Y3',\n 'Y4',\n 'Y5',\n 'Y6',\n 'Y7',\n 'Y8',\n 'Y9',\n 'Z0',\n 'Z1',\n 'Z2',\n 'Z3',\n 'Z4',\n 'Z5',\n 'Z6',\n 'Z7',\n 'Z8',\n 'Z9',\n 'XAVG',\n 'YAVG',\n 'ZAVG',\n 'XPEAK',\n 'YPEAK',\n 'ZPEAK',\n 'XABSOLDEV',\n 'YABSOLDEV',\n 'ZABSOLDEV',\n 'XMFCC0',\n 'XMFCC1',\n 'XMFCC2',\n 'XMFCC3',\n 'XMFCC4',\n 'XMFCC5',\n 'XMFCC6',\n 'XMFCC7',\n 'XMFCC8',\n 'XMFCC9',\n 'XMFCC10',\n 'XMFCC11',\n 'XMFCC12',\n 'YMFCC0',\n 'YMFCC1',\n 'YMFCC2',\n 'YMFCC3',\n 'YMFCC4',\n 'YMFCC5',\n 'YMFCC6',\n 'YMFCC7',\n 'YMFCC8',\n 'YMFCC9',\n 'YMFCC10',\n 'YMFCC11',\n 'YMFCC12',\n 'ZMFCC0',\n 'ZMFCC1',\n 'ZMFCC2',\n 'ZMFCC3',\n 'ZMFCC4',\n 'ZMFCC5',\n 'ZMFCC6',\n 'ZMFCC7',\n 'ZMFCC8',\n 'ZMFCC9',\n 'ZMFCC10',\n 'ZMFCC11',\n 'ZMFCC12',\n 'XYCOS',\n 'XZCOS',\n 'YZCOS',\n 'XYCOR',\n 'XZCOR',\n 'YZCOR',\n 'RESULTANT']"
     ]
    }
   ],
   "source": [
    "all_phone_accel.columns"
   ]
  },
  {
   "cell_type": "code",
   "execution_count": 0,
   "metadata": {
    "application/vnd.databricks.v1+cell": {
     "cellMetadata": {
      "byteLimit": 2048000,
      "rowLimit": 10000
     },
     "inputWidgets": {},
     "nuid": "a4bed34d-2626-4597-a2d1-e561db7fa0ac",
     "showTitle": false,
     "title": ""
    }
   },
   "outputs": [
    {
     "output_type": "stream",
     "name": "stdout",
     "output_type": "stream",
     "text": [
      "Out[4]: [('ACTIVITY', 'string'),\n ('X0', 'string'),\n ('X1', 'string'),\n ('X2', 'string'),\n ('X3', 'string'),\n ('X4', 'string'),\n ('X5', 'string'),\n ('X6', 'string'),\n ('X7', 'string'),\n ('X8', 'string'),\n ('X9', 'string'),\n ('Y0', 'string'),\n ('Y1', 'string'),\n ('Y2', 'string'),\n ('Y3', 'string'),\n ('Y4', 'string'),\n ('Y5', 'string'),\n ('Y6', 'string'),\n ('Y7', 'string'),\n ('Y8', 'string'),\n ('Y9', 'string'),\n ('Z0', 'string'),\n ('Z1', 'string'),\n ('Z2', 'string'),\n ('Z3', 'string'),\n ('Z4', 'string'),\n ('Z5', 'string'),\n ('Z6', 'string'),\n ('Z7', 'string'),\n ('Z8', 'string'),\n ('Z9', 'string'),\n ('XAVG', 'string'),\n ('YAVG', 'string'),\n ('ZAVG', 'string'),\n ('XPEAK', 'string'),\n ('YPEAK', 'string'),\n ('ZPEAK', 'string'),\n ('XABSOLDEV', 'string'),\n ('YABSOLDEV', 'string'),\n ('ZABSOLDEV', 'string'),\n ('XSTANDDEV', 'string'),\n ('YSTANDDEV', 'string'),\n ('ZSTANDDEV', 'string'),\n ('XVAR', 'string'),\n ('YVAR', 'string'),\n ('ZVAR', 'string'),\n ('XMFCC0', 'string'),\n ('XMFCC1', 'string'),\n ('XMFCC2', 'string'),\n ('XMFCC3', 'string'),\n ('XMFCC4', 'string'),\n ('XMFCC5', 'string'),\n ('XMFCC6', 'string'),\n ('XMFCC7', 'string'),\n ('XMFCC8', 'string'),\n ('XMFCC9', 'string'),\n ('XMFCC10', 'string'),\n ('XMFCC11', 'string'),\n ('XMFCC12', 'string'),\n ('YMFCC0', 'string'),\n ('YMFCC1', 'string'),\n ('YMFCC2', 'string'),\n ('YMFCC3', 'string'),\n ('YMFCC4', 'string'),\n ('YMFCC5', 'string'),\n ('YMFCC6', 'string'),\n ('YMFCC7', 'string'),\n ('YMFCC8', 'string'),\n ('YMFCC9', 'string'),\n ('YMFCC10', 'string'),\n ('YMFCC11', 'string'),\n ('YMFCC12', 'string'),\n ('ZMFCC0', 'string'),\n ('ZMFCC1', 'string'),\n ('ZMFCC2', 'string'),\n ('ZMFCC3', 'string'),\n ('ZMFCC4', 'string'),\n ('ZMFCC5', 'string'),\n ('ZMFCC6', 'string'),\n ('ZMFCC7', 'string'),\n ('ZMFCC8', 'string'),\n ('ZMFCC9', 'string'),\n ('ZMFCC10', 'string'),\n ('ZMFCC11', 'string'),\n ('ZMFCC12', 'string'),\n ('XYCOS', 'string'),\n ('XZCOS', 'string'),\n ('YZCOS', 'string'),\n ('XYCOR', 'string'),\n ('XZCOR', 'string'),\n ('YZCOR', 'string'),\n ('RESULTANT', 'string'),\n ('PARTICIPANT', 'string')]"
     ]
    }
   ],
   "source": [
    "all_phone_accel.dtypes"
   ]
  },
  {
   "cell_type": "code",
   "execution_count": 0,
   "metadata": {
    "application/vnd.databricks.v1+cell": {
     "cellMetadata": {
      "byteLimit": 2048000,
      "rowLimit": 10000
     },
     "inputWidgets": {},
     "nuid": "50c02a11-0026-4298-8279-9bec7ed840bc",
     "showTitle": true,
     "title": "Casting each column except activity into DoubleType()"
    }
   },
   "outputs": [],
   "source": [
    "from pyspark.sql.functions import col\n",
    "from pyspark.sql.types import DoubleType\n",
    "for coli in all_phone_accel.columns:\n",
    "    if coli == 'ACTIVITY':\n",
    "        continue\n",
    "    else:\n",
    "        all_phone_accel = all_phone_accel.withColumn(coli, col(coli).cast(DoubleType()))\n",
    "        "
   ]
  },
  {
   "cell_type": "code",
   "execution_count": 0,
   "metadata": {
    "application/vnd.databricks.v1+cell": {
     "cellMetadata": {
      "byteLimit": 2048000,
      "rowLimit": 10000
     },
     "inputWidgets": {},
     "nuid": "a14501cc-a805-4913-a752-3ccde3371c17",
     "showTitle": false,
     "title": ""
    }
   },
   "outputs": [
    {
     "output_type": "stream",
     "name": "stdout",
     "output_type": "stream",
     "text": [
      "Out[8]: [('ACTIVITY', 'string'),\n ('X0', 'double'),\n ('X1', 'double'),\n ('X2', 'double'),\n ('X3', 'double'),\n ('X4', 'double'),\n ('X5', 'double'),\n ('X6', 'double'),\n ('X7', 'double'),\n ('X8', 'double'),\n ('X9', 'double'),\n ('Y0', 'double'),\n ('Y1', 'double'),\n ('Y2', 'double'),\n ('Y3', 'double'),\n ('Y4', 'double'),\n ('Y5', 'double'),\n ('Y6', 'double'),\n ('Y7', 'double'),\n ('Y8', 'double'),\n ('Y9', 'double'),\n ('Z0', 'double'),\n ('Z1', 'double'),\n ('Z2', 'double'),\n ('Z3', 'double'),\n ('Z4', 'double'),\n ('Z5', 'double'),\n ('Z6', 'double'),\n ('Z7', 'double'),\n ('Z8', 'double'),\n ('Z9', 'double'),\n ('XAVG', 'double'),\n ('YAVG', 'double'),\n ('ZAVG', 'double'),\n ('XPEAK', 'double'),\n ('YPEAK', 'double'),\n ('ZPEAK', 'double'),\n ('XABSOLDEV', 'double'),\n ('YABSOLDEV', 'double'),\n ('ZABSOLDEV', 'double'),\n ('XSTANDDEV', 'double'),\n ('YSTANDDEV', 'double'),\n ('ZSTANDDEV', 'double'),\n ('XVAR', 'double'),\n ('YVAR', 'double'),\n ('ZVAR', 'double'),\n ('XMFCC0', 'double'),\n ('XMFCC1', 'double'),\n ('XMFCC2', 'double'),\n ('XMFCC3', 'double'),\n ('XMFCC4', 'double'),\n ('XMFCC5', 'double'),\n ('XMFCC6', 'double'),\n ('XMFCC7', 'double'),\n ('XMFCC8', 'double'),\n ('XMFCC9', 'double'),\n ('XMFCC10', 'double'),\n ('XMFCC11', 'double'),\n ('XMFCC12', 'double'),\n ('YMFCC0', 'double'),\n ('YMFCC1', 'double'),\n ('YMFCC2', 'double'),\n ('YMFCC3', 'double'),\n ('YMFCC4', 'double'),\n ('YMFCC5', 'double'),\n ('YMFCC6', 'double'),\n ('YMFCC7', 'double'),\n ('YMFCC8', 'double'),\n ('YMFCC9', 'double'),\n ('YMFCC10', 'double'),\n ('YMFCC11', 'double'),\n ('YMFCC12', 'double'),\n ('ZMFCC0', 'double'),\n ('ZMFCC1', 'double'),\n ('ZMFCC2', 'double'),\n ('ZMFCC3', 'double'),\n ('ZMFCC4', 'double'),\n ('ZMFCC5', 'double'),\n ('ZMFCC6', 'double'),\n ('ZMFCC7', 'double'),\n ('ZMFCC8', 'double'),\n ('ZMFCC9', 'double'),\n ('ZMFCC10', 'double'),\n ('ZMFCC11', 'double'),\n ('ZMFCC12', 'double'),\n ('XYCOS', 'double'),\n ('XZCOS', 'double'),\n ('YZCOS', 'double'),\n ('XYCOR', 'double'),\n ('XZCOR', 'double'),\n ('YZCOR', 'double'),\n ('RESULTANT', 'double'),\n ('PARTICIPANT', 'double')]"
     ]
    }
   ],
   "source": [
    "all_phone_accel.dtypes"
   ]
  },
  {
   "cell_type": "code",
   "execution_count": 0,
   "metadata": {
    "application/vnd.databricks.v1+cell": {
     "cellMetadata": {
      "byteLimit": 2048000,
      "rowLimit": 10000
     },
     "inputWidgets": {},
     "nuid": "c2714dc7-28a4-4fed-a84a-1dc071539f09",
     "showTitle": true,
     "title": "Null Value Check"
    }
   },
   "outputs": [
    {
     "output_type": "stream",
     "name": "stdout",
     "output_type": "stream",
     "text": [
      "ACTIVITY 0\nX0 0\nX1 0\nX2 0\nX3 0\nX4 0\nX5 0\nX6 0\nX7 0\nX8 0\nX9 0\nY0 0\nY1 0\nY2 0\nY3 0\nY4 0\nY5 0\nY6 0\nY7 0\nY8 0\nY9 0\nZ0 0\nZ1 0\nZ2 0\nZ3 0\nZ4 0\nZ5 0\nZ6 0\nZ7 0\nZ8 0\nZ9 0\nXAVG 0\nYAVG 0\nZAVG 0\nXPEAK 0\nYPEAK 0\nZPEAK 0\nXABSOLDEV 0\nYABSOLDEV 0\nZABSOLDEV 0\nXSTANDDEV 0\nYSTANDDEV 0\nZSTANDDEV 0\nXVAR 0\nYVAR 0\nZVAR 0\nXMFCC0 0\nXMFCC1 0\nXMFCC2 0\nXMFCC3 0\nXMFCC4 0\nXMFCC5 0\nXMFCC6 0\nXMFCC7 0\nXMFCC8 0\nXMFCC9 0\nXMFCC10 0\nXMFCC11 0\nXMFCC12 0\nYMFCC0 0\nYMFCC1 0\nYMFCC2 0\nYMFCC3 0\nYMFCC4 0\nYMFCC5 0\nYMFCC6 0\nYMFCC7 0\nYMFCC8 0\nYMFCC9 0\nYMFCC10 0\nYMFCC11 0\nYMFCC12 0\nZMFCC0 0\nZMFCC1 0\nZMFCC2 0\nZMFCC3 0\nZMFCC4 0\nZMFCC5 0\nZMFCC6 0\nZMFCC7 0\nZMFCC8 0\nZMFCC9 0\nZMFCC10 0\nZMFCC11 0\nZMFCC12 0\nXYCOS 0\nXZCOS 0\nYZCOS 0\nXYCOR 0\nXZCOR 0\nYZCOR 0\nRESULTANT 0\nPARTICIPANT 0\n"
     ]
    }
   ],
   "source": [
    "for coli in all_phone_accel.columns:\n",
    "    print(coli,all_phone_accel.filter(all_phone_accel[coli].isNull()).count())"
   ]
  },
  {
   "cell_type": "code",
   "execution_count": 0,
   "metadata": {
    "application/vnd.databricks.v1+cell": {
     "cellMetadata": {
      "byteLimit": 2048000,
      "rowLimit": 10000
     },
     "inputWidgets": {},
     "nuid": "25f0d2ed-5b55-4673-9d31-fdcd922e7672",
     "showTitle": true,
     "title": "Row count per Activity"
    }
   },
   "outputs": [],
   "source": [
    "import matplotlib.pyplot as plt\n",
    "import pandas as pd\n",
    "\n",
    "# Group by activity and count the rows\n",
    "activity_counts = all_phone_accel.groupBy('ACTIVITY') \\\n",
    "    .count() \\\n",
    "    .orderBy('count', ascending=False)\n",
    "\n",
    "# Convert to Pandas DataFrame\n",
    "activity_counts_pd = activity_counts.toPandas()\n",
    "\n",
    "# Plot the results\n",
    "_ = activity_counts_pd.plot(kind='bar', x='ACTIVITY', y='count',\n",
    "                            figsize=(15, 5), color='purple',\n",
    "                            title='row count per activity',\n",
    "                            legend=True, fontsize=15)\n",
    "plt.show()"
   ]
  },
  {
   "cell_type": "code",
   "execution_count": 0,
   "metadata": {
    "application/vnd.databricks.v1+cell": {
     "cellMetadata": {
      "byteLimit": 2048000,
      "rowLimit": 10000
     },
     "inputWidgets": {},
     "nuid": "f000bf28-0cdb-4b4d-aa07-3482725fe8f9",
     "showTitle": true,
     "title": "Row count per Participant"
    }
   },
   "outputs": [],
   "source": [
    "# Group by activity and count the rows\n",
    "activity_counts = all_phone_accel.groupBy('PARTICIPANT') \\\n",
    "    .count() \\\n",
    "    .orderBy('count', ascending=False)\n",
    "\n",
    "# Convert to Pandas DataFrame\n",
    "activity_counts_pd = activity_counts.toPandas()\n",
    "\n",
    "# Plot the results\n",
    "_ = activity_counts_pd.plot(kind='bar', x='PARTICIPANT', y='count',\n",
    "                            figsize=(15, 5), color='purple',\n",
    "                            title='row count per PARTICIPANT',\n",
    "                            legend=True, fontsize=15)\n",
    "plt.show()"
   ]
  },
  {
   "cell_type": "code",
   "execution_count": 0,
   "metadata": {
    "application/vnd.databricks.v1+cell": {
     "cellMetadata": {
      "byteLimit": 2048000,
      "rowLimit": 10000
     },
     "inputWidgets": {},
     "nuid": "0c8ada77-52e0-496a-a436-16442cb3137d",
     "showTitle": false,
     "title": ""
    }
   },
   "outputs": [
    {
     "output_type": "stream",
     "name": "stdout",
     "output_type": "stream",
     "text": [
      "+---------+---------+---------+---------+---------+---------+--------+--------+--------+\n|XABSOLDEV|YABSOLDEV|ZABSOLDEV|XSTANDDEV|YSTANDDEV|ZSTANDDEV|    XVAR|    YVAR|    ZVAR|\n+---------+---------+---------+---------+---------+---------+--------+--------+--------+\n|  1.59095|  3.29508|  1.60941|  0.14117| 0.283329|   0.1598|0.375726|0.532286| 0.39975|\n|  1.77817|   3.3349|  1.68296| 0.161229| 0.287955| 0.157993|0.401533|0.536614|0.397483|\n|  1.70505|  3.14244|  1.69288|   0.1562| 0.269307| 0.159797|0.395221|0.518948|0.399746|\n|  1.62315|   3.3279|  1.57944| 0.141721| 0.283364| 0.154396|0.376459| 0.53232|0.392933|\n+---------+---------+---------+---------+---------+---------+--------+--------+--------+\nonly showing top 4 rows\n\n"
     ]
    }
   ],
   "source": [
    "all_phone_accel[['XABSOLDEV', 'YABSOLDEV','ZABSOLDEV','XSTANDDEV', 'YSTANDDEV', 'ZSTANDDEV', 'XVAR', 'YVAR', 'ZVAR']].show(4)"
   ]
  },
  {
   "cell_type": "code",
   "execution_count": 0,
   "metadata": {
    "application/vnd.databricks.v1+cell": {
     "cellMetadata": {
      "byteLimit": 2048000,
      "rowLimit": 10000
     },
     "inputWidgets": {},
     "nuid": "042a95bc-c04d-40ae-a9a5-4beb2e8416b9",
     "showTitle": true,
     "title": "Droping Erroneous Columns"
    }
   },
   "outputs": [],
   "source": [
    "all_phone_accel = all_phone_accel.drop('XSTANDDEV', 'YSTANDDEV', 'ZSTANDDEV', 'XVAR', 'YVAR', 'ZVAR')"
   ]
  },
  {
   "cell_type": "code",
   "execution_count": 0,
   "metadata": {
    "application/vnd.databricks.v1+cell": {
     "cellMetadata": {
      "byteLimit": 2048000,
      "rowLimit": 10000
     },
     "inputWidgets": {},
     "nuid": "36842ee9-eaf8-4072-9de1-a652d0f1f46d",
     "showTitle": false,
     "title": ""
    }
   },
   "outputs": [
    {
     "output_type": "stream",
     "name": "stdout",
     "output_type": "stream",
     "text": [
      "Out[26]: ['ACTIVITY',\n 'X0',\n 'X1',\n 'X2',\n 'X3',\n 'X4',\n 'X5',\n 'X6',\n 'X7',\n 'X8',\n 'X9',\n 'Y0',\n 'Y1',\n 'Y2',\n 'Y3',\n 'Y4',\n 'Y5',\n 'Y6',\n 'Y7',\n 'Y8',\n 'Y9',\n 'Z0',\n 'Z1',\n 'Z2',\n 'Z3',\n 'Z4',\n 'Z5',\n 'Z6',\n 'Z7',\n 'Z8',\n 'Z9',\n 'XAVG',\n 'YAVG',\n 'ZAVG',\n 'XPEAK',\n 'YPEAK',\n 'ZPEAK',\n 'XABSOLDEV',\n 'YABSOLDEV',\n 'ZABSOLDEV',\n 'XMFCC0',\n 'XMFCC1',\n 'XMFCC2',\n 'XMFCC3',\n 'XMFCC4',\n 'XMFCC5',\n 'XMFCC6',\n 'XMFCC7',\n 'XMFCC8',\n 'XMFCC9',\n 'XMFCC10',\n 'XMFCC11',\n 'XMFCC12',\n 'YMFCC0',\n 'YMFCC1',\n 'YMFCC2',\n 'YMFCC3',\n 'YMFCC4',\n 'YMFCC5',\n 'YMFCC6',\n 'YMFCC7',\n 'YMFCC8',\n 'YMFCC9',\n 'YMFCC10',\n 'YMFCC11',\n 'YMFCC12',\n 'ZMFCC0',\n 'ZMFCC1',\n 'ZMFCC2',\n 'ZMFCC3',\n 'ZMFCC4',\n 'ZMFCC5',\n 'ZMFCC6',\n 'ZMFCC7',\n 'ZMFCC8',\n 'ZMFCC9',\n 'ZMFCC10',\n 'ZMFCC11',\n 'ZMFCC12',\n 'XYCOS',\n 'XZCOS',\n 'YZCOS',\n 'XYCOR',\n 'XZCOR',\n 'YZCOR',\n 'RESULTANT',\n 'PARTICIPANT']"
     ]
    }
   ],
   "source": [
    "all_phone_accel.columns"
   ]
  },
  {
   "cell_type": "code",
   "execution_count": 0,
   "metadata": {
    "application/vnd.databricks.v1+cell": {
     "cellMetadata": {
      "byteLimit": 2048000,
      "rowLimit": 10000
     },
     "inputWidgets": {},
     "nuid": "bf571c10-f224-45c0-befc-4a64235bd17a",
     "showTitle": true,
     "title": "Preprocessing"
    }
   },
   "outputs": [],
   "source": [
    "all_phone_accel = all_phone_accel.drop('PARTICIPANT')"
   ]
  },
  {
   "cell_type": "code",
   "execution_count": 0,
   "metadata": {
    "application/vnd.databricks.v1+cell": {
     "cellMetadata": {
      "byteLimit": 2048000,
      "rowLimit": 10000
     },
     "inputWidgets": {},
     "nuid": "58d3fd9f-5045-45ae-b058-5478984cd5fe",
     "showTitle": false,
     "title": ""
    }
   },
   "outputs": [
    {
     "output_type": "stream",
     "name": "stdout",
     "output_type": "stream",
     "text": [
      "Out[30]: ['ACTIVITY',\n 'X0',\n 'X1',\n 'X2',\n 'X3',\n 'X4',\n 'X5',\n 'X6',\n 'X7',\n 'X8',\n 'X9',\n 'Y0',\n 'Y1',\n 'Y2',\n 'Y3',\n 'Y4',\n 'Y5',\n 'Y6',\n 'Y7',\n 'Y8',\n 'Y9',\n 'Z0',\n 'Z1',\n 'Z2',\n 'Z3',\n 'Z4',\n 'Z5',\n 'Z6',\n 'Z7',\n 'Z8',\n 'Z9',\n 'XAVG',\n 'YAVG',\n 'ZAVG',\n 'XPEAK',\n 'YPEAK',\n 'ZPEAK',\n 'XABSOLDEV',\n 'YABSOLDEV',\n 'ZABSOLDEV',\n 'XMFCC0',\n 'XMFCC1',\n 'XMFCC2',\n 'XMFCC3',\n 'XMFCC4',\n 'XMFCC5',\n 'XMFCC6',\n 'XMFCC7',\n 'XMFCC8',\n 'XMFCC9',\n 'XMFCC10',\n 'XMFCC11',\n 'XMFCC12',\n 'YMFCC0',\n 'YMFCC1',\n 'YMFCC2',\n 'YMFCC3',\n 'YMFCC4',\n 'YMFCC5',\n 'YMFCC6',\n 'YMFCC7',\n 'YMFCC8',\n 'YMFCC9',\n 'YMFCC10',\n 'YMFCC11',\n 'YMFCC12',\n 'ZMFCC0',\n 'ZMFCC1',\n 'ZMFCC2',\n 'ZMFCC3',\n 'ZMFCC4',\n 'ZMFCC5',\n 'ZMFCC6',\n 'ZMFCC7',\n 'ZMFCC8',\n 'ZMFCC9',\n 'ZMFCC10',\n 'ZMFCC11',\n 'ZMFCC12',\n 'XYCOS',\n 'XZCOS',\n 'YZCOS',\n 'XYCOR',\n 'XZCOR',\n 'YZCOR',\n 'RESULTANT']"
     ]
    }
   ],
   "source": [
    "all_phone_accel.columns"
   ]
  },
  {
   "cell_type": "code",
   "execution_count": 0,
   "metadata": {
    "application/vnd.databricks.v1+cell": {
     "cellMetadata": {
      "byteLimit": 2048000,
      "rowLimit": 10000
     },
     "inputWidgets": {},
     "nuid": "41a7299f-e987-4a5c-8e0e-f7f16e38bba5",
     "showTitle": true,
     "title": "Train test data"
    }
   },
   "outputs": [],
   "source": [
    "X_train = spark.read.csv(\"s3://humanactivity/Train_test_spllit/X_train\",header=True)\n",
    "X_test = spark.read.csv(\"s3://humanactivity/Train_test_spllit/X_test\",header=True)\n",
    "y_train=spark.read.csv(\"s3://humanactivity/Train_test_spllit/y_train\",header=True)\n",
    "y_test= spark.read.csv(\"s3://humanactivity/Train_test_spllit/y_test\",header=True)"
   ]
  },
  {
   "cell_type": "code",
   "execution_count": 0,
   "metadata": {
    "application/vnd.databricks.v1+cell": {
     "cellMetadata": {
      "byteLimit": 2048000,
      "rowLimit": 10000
     },
     "inputWidgets": {},
     "nuid": "613b05ff-7a4a-41dc-82f6-53aa8ebcabf9",
     "showTitle": false,
     "title": ""
    }
   },
   "outputs": [
    {
     "output_type": "stream",
     "name": "stdout",
     "output_type": "stream",
     "text": [
      "+-----+-----+---+---+---+---+---+---+---+---+---+---+---+---+---+---+---+---+---+---+---+-----+----+----+-----+---+---+---+---+---+--------------------+--------------------+-------------------+-------------------+-------------------+-------------------+--------------------+--------------------+--------------------+---------+---------+---------+---------+---------+---------+---------+---------+---------+--------+---------+---------+---------+--------+--------+--------+--------+--------+--------+--------+--------+--------+--------+--------+--------+--------+--------+--------+--------+--------+--------+--------+--------+--------+--------+--------+--------+--------+--------+---------+---------+---------+----------+---------+-----------+-------------------+\n|   X0|   X1| X2| X3| X4| X5| X6| X7| X8| X9| Y0| Y1| Y2| Y3| Y4| Y5| Y6| Y7| Y8| Y9| Z0|   Z1|  Z2|  Z3|   Z4| Z5| Z6| Z7| Z8| Z9|                XAVG|                YAVG|               ZAVG|              XPEAK|              YPEAK|              ZPEAK|           XABSOLDEV|           YABSOLDEV|           ZABSOLDEV|   XMFCC0|   XMFCC1|   XMFCC2|   XMFCC3|   XMFCC4|   XMFCC5|   XMFCC6|   XMFCC7|   XMFCC8|  XMFCC9|  XMFCC10|  XMFCC11|  XMFCC12|  YMFCC0|  YMFCC1|  YMFCC2|  YMFCC3|  YMFCC4|  YMFCC5|  YMFCC6|  YMFCC7|  YMFCC8|  YMFCC9| YMFCC10| YMFCC11| YMFCC12|  ZMFCC0|  ZMFCC1|  ZMFCC2|  ZMFCC3|  ZMFCC4|  ZMFCC5|  ZMFCC6|  ZMFCC7|  ZMFCC8|  ZMFCC9| ZMFCC10| ZMFCC11| ZMFCC12|    XYCOS|    XZCOS|    YZCOS|     XYCOR|    XZCOR|      YZCOR|          RESULTANT|\n+-----+-----+---+---+---+---+---+---+---+---+---+---+---+---+---+---+---+---+---+---+---+-----+----+----+-----+---+---+---+---+---+--------------------+--------------------+-------------------+-------------------+-------------------+-------------------+--------------------+--------------------+--------------------+---------+---------+---------+---------+---------+---------+---------+---------+---------+--------+---------+---------+---------+--------+--------+--------+--------+--------+--------+--------+--------+--------+--------+--------+--------+--------+--------+--------+--------+--------+--------+--------+--------+--------+--------+--------+--------+--------+--------+---------+---------+---------+----------+---------+-----------+-------------------+\n| 0.92| 0.08|0.0|0.0|0.0|0.0|0.0|0.0|0.0|0.0|1.0|0.0|0.0|0.0|0.0|0.0|0.0|0.0|0.0|0.0|0.0|0.005|0.07|0.87|0.055|0.0|0.0|0.0|0.0|0.0| -0.5097929509238399| -0.4812690574042159|0.33033436347707207| 0.3205978571428571| 0.1956258426966292| 0.2562093333333333| 0.16989476894921457| 0.13860176229828725|0.059077208460998926| 0.288288| 0.407483| 0.406828| 0.405738| 0.404213| 0.402255| 0.399867| 0.397051| 0.393809|0.390145| 0.386064|  0.38157| 0.376667|0.308927|0.436655|0.435953|0.434785|0.433151|0.431053|0.428494|0.425476|0.422002|0.418076|0.413703|0.408887|0.403632|0.257247|0.363607|0.363023| 0.36205|0.360689|0.358942|0.356811|0.354298|0.351405|0.348136|0.344495|0.340484|0.336109| 0.719719|-0.835091|-0.921336| -0.971407| 0.427391|  -0.251907| 0.4243559678512971|\n|  0.0|  0.0|0.0|1.0|0.0|0.0|0.0|0.0|0.0|0.0|1.0|0.0|0.0|0.0|0.0|0.0|0.0|0.0|0.0|0.0|0.0|  0.0| 0.0| 0.0|  0.0|1.0|0.0|0.0|0.0|0.0| 0.26473233811138897|-0.25172179504176057| 0.7693700719175114|0.24805214285714286| 0.1835207865168539|0.23515133333333332|0.000904708542480...|0.000883312912223...|0.001934299900328...|  0.18201| 0.257263|  0.25685| 0.256161| 0.255199| 0.253963| 0.252455| 0.250677|  0.24863|0.246317| 0.243741| 0.240903| 0.237807|0.174246|0.246289|0.245893|0.245234|0.244313| 0.24313|0.241686|0.239984|0.238024| 0.23581|0.233343|0.230627|0.227663|0.313249|0.442763|0.442052|0.440867| 0.43921|0.437083|0.434488|0.431428|0.427905|0.423925| 0.41949|0.414607|0.409279|-0.999971| 0.999983|-0.999977|-0.0798903| 0.145356|-0.00423067| 0.3943636120216455|\n|0.925|0.075|0.0|0.0|0.0|0.0|0.0|0.0|0.0|0.0|1.0|0.0|0.0|0.0|0.0|0.0|0.0|0.0|0.0|0.0|0.0|  0.0| 0.0| 0.0|  0.0|1.0|0.0|0.0|0.0|0.0| -0.2167710576915142| -0.3602097971629325| 0.7960873792950734|0.35515857142857143| 0.3043073033707865| 0.2546666666666667|0.004365868537440903|0.004685334602049063|0.003134113477795415| 0.156547| 0.221273| 0.220917| 0.220325| 0.219497| 0.218434| 0.217137| 0.215608| 0.213848|0.211858| 0.209642| 0.207201| 0.204539| 0.22545|0.318663|0.318151|0.317299|0.316106|0.314576|0.312708|0.310505| 0.30797|0.305105|0.301914|0.298399|0.294564|0.318855|0.450687|0.449963|0.448757|0.447071|0.444906|0.442264|0.439149|0.435564|0.431512|0.426998|0.422027|0.416604| 0.998645| -0.99943|-0.999636| -0.627836|-0.185396|   0.683747|0.41914713516361546|\n|  0.0|  1.0|0.0|0.0|0.0|0.0|0.0|0.0|0.0|0.0|1.0|0.0|0.0|0.0|0.0|0.0|0.0|0.0|0.0|0.0|1.0|  0.0| 0.0| 0.0|  0.0|0.0|0.0|0.0|0.0|0.0|-0.10356084800171646| -0.3761359870078218|-0.8810530572163012|0.32823142857142856|0.24219719101123596|           0.238994|0.008445670408657194|0.010475312182277954|0.009373454169589132|0.0528198|0.0746585|0.0745386|0.0743388|0.0740594|0.0737008|0.0732632|0.0727472|0.0721532|0.071482|0.0707343|0.0699108|0.0690124|0.232665|0.328862|0.328333|0.327453|0.326223|0.324643|0.322715|0.320442|0.317826| 0.31487|0.311576|0.307948|0.303991|0.333082|0.470797|0.470041|0.468781| 0.46702|0.464758|0.461999|0.458744|0.454999|0.450766|0.446051|0.440858|0.435193| 0.995472| 0.990695| 0.998636|  0.822683|-0.861786|  -0.944476| 0.4446445460787997|\n+-----+-----+---+---+---+---+---+---+---+---+---+---+---+---+---+---+---+---+---+---+---+-----+----+----+-----+---+---+---+---+---+--------------------+--------------------+-------------------+-------------------+-------------------+-------------------+--------------------+--------------------+--------------------+---------+---------+---------+---------+---------+---------+---------+---------+---------+--------+---------+---------+---------+--------+--------+--------+--------+--------+--------+--------+--------+--------+--------+--------+--------+--------+--------+--------+--------+--------+--------+--------+--------+--------+--------+--------+--------+--------+--------+---------+---------+---------+----------+---------+-----------+-------------------+\nonly showing top 4 rows\n\n"
     ]
    }
   ],
   "source": [
    "X_train.show(4)"
   ]
  },
  {
   "cell_type": "code",
   "execution_count": 0,
   "metadata": {
    "application/vnd.databricks.v1+cell": {
     "cellMetadata": {
      "byteLimit": 2048000,
      "rowLimit": 10000
     },
     "inputWidgets": {},
     "nuid": "5cb9e6ed-3847-48a2-9440-f1f21c3b3f06",
     "showTitle": false,
     "title": ""
    }
   },
   "outputs": [
    {
     "output_type": "stream",
     "name": "stdout",
     "output_type": "stream",
     "text": [
      "+-----+-----+----+----+---+---+---+---+---+---+---+---+---+---+---+---+---+---+---+---+-----+----+----+-----+----+---+---+---+---+---+-------------------+--------------------+--------------------+-------------------+-------------------+------------------+--------------------+--------------------+--------------------+--------+--------+--------+--------+--------+--------+--------+--------+--------+--------+--------+--------+--------+---------+---------+---------+---------+---------+--------+--------+---------+--------+---------+---------+---------+---------+--------+--------+--------+--------+--------+--------+--------+--------+--------+--------+--------+--------+--------+---------+---------+--------+----------+---------+----------+-------------------+\n|   X0|   X1|  X2|  X3| X4| X5| X6| X7| X8| X9| Y0| Y1| Y2| Y3| Y4| Y5| Y6| Y7| Y8| Y9|   Z0|  Z1|  Z2|   Z3|  Z4| Z5| Z6| Z7| Z8| Z9|               XAVG|                YAVG|                ZAVG|              XPEAK|              YPEAK|             ZPEAK|           XABSOLDEV|           YABSOLDEV|           ZABSOLDEV|  XMFCC0|  XMFCC1|  XMFCC2|  XMFCC3|  XMFCC4|  XMFCC5|  XMFCC6|  XMFCC7|  XMFCC8|  XMFCC9| XMFCC10| XMFCC11| XMFCC12|   YMFCC0|   YMFCC1|   YMFCC2|   YMFCC3|   YMFCC4|  YMFCC5|  YMFCC6|   YMFCC7|  YMFCC8|   YMFCC9|  YMFCC10|  YMFCC11|  YMFCC12|  ZMFCC0|  ZMFCC1|  ZMFCC2|  ZMFCC3|  ZMFCC4|  ZMFCC5|  ZMFCC6|  ZMFCC7|  ZMFCC8|  ZMFCC9| ZMFCC10| ZMFCC11| ZMFCC12|    XYCOS|    XZCOS|   YZCOS|     XYCOR|    XZCOR|     YZCOR|          RESULTANT|\n+-----+-----+----+----+---+---+---+---+---+---+---+---+---+---+---+---+---+---+---+---+-----+----+----+-----+----+---+---+---+---+---+-------------------+--------------------+--------------------+-------------------+-------------------+------------------+--------------------+--------------------+--------------------+--------+--------+--------+--------+--------+--------+--------+--------+--------+--------+--------+--------+--------+---------+---------+---------+---------+---------+--------+--------+---------+--------+---------+---------+---------+---------+--------+--------+--------+--------+--------+--------+--------+--------+--------+--------+--------+--------+--------+---------+---------+--------+----------+---------+----------+-------------------+\n|  0.0|  0.0| 0.0| 1.0|0.0|0.0|0.0|0.0|0.0|0.0|1.0|0.0|0.0|0.0|0.0|0.0|0.0|0.0|0.0|0.0|  1.0| 0.0| 0.0|  0.0| 0.0|0.0|0.0|0.0|0.0|0.0| 0.3431964284240669| -0.3103349131645234| -0.7701720436318824| 0.4075628571428571|0.28237752808988764|0.3015873333333334| 0.00105969723693895|0.000926353658854...|0.001105107239100...|0.219436|0.310164|0.309665|0.308835|0.307675|0.306185|0.304367|0.302223|0.299756|0.296967|0.293861| 0.29044|0.286707| 0.203774| 0.288025| 0.287563| 0.286792| 0.285714| 0.28433|0.282642| 0.280651| 0.27836| 0.275771| 0.272886| 0.269709| 0.266243|0.313495|0.443111|0.442399|0.441214|0.439556|0.437427| 0.43483|0.431767|0.428242|0.424258| 0.41982|0.414932|0.409601|-0.999979|-0.999981|0.999987| -0.213579|0.0806684| 0.0121743|0.42164595830688106|\n|  0.0|  0.0| 0.0| 0.0|1.0|0.0|0.0|0.0|0.0|0.0|1.0|0.0|0.0|0.0|0.0|0.0|0.0|0.0|0.0|0.0|  1.0| 0.0| 0.0|  0.0| 0.0|0.0|0.0|0.0|0.0|0.0| 0.5554171927479183|-0.37922494365637016| -0.5405106432140484|0.25793642857142857|0.17867022471910113|0.2245613333333333|0.001891194939361...|0.001852720352459...|0.002470809184539...|0.289082|0.408605|0.407949|0.406856|0.405327|0.403364|0.400969|0.398144|0.394894| 0.39122|0.387128|0.382621|0.377704| 0.232799| 0.329051| 0.328522| 0.327642| 0.326411| 0.32483|0.322901| 0.320627|0.318009| 0.315051| 0.311755| 0.308126| 0.304166|0.262519| 0.37106|0.370464|0.369471|0.368082|  0.3663|0.364125| 0.36156|0.358608|0.355272|0.351556|0.347463|0.342998|-0.999933|-0.999952|0.999959|  0.570896| 0.441525|  0.141322|0.42703013185114164|\n|0.755|0.205|0.03|0.01|0.0|0.0|0.0|0.0|0.0|0.0|1.0|0.0|0.0|0.0|0.0|0.0|0.0|0.0|0.0|0.0|0.175|0.46|0.33|0.025|0.01|0.0|0.0|0.0|0.0|0.0|-0.2695335000288829| -0.7641231936895134|-0.09187120315012179| 0.5109892857142857| 0.3651685393258427|0.6526313333333333| 0.08142376882322908| 0.04226889387106025| 0.15447875521429363|0.325531|0.460124|0.459385|0.458153|0.456432|0.454221|0.451524|0.448344|0.444684|0.440547|0.435938|0.430863|0.425327| 0.346314| 0.489499| 0.488713| 0.487403| 0.485572| 0.48322|0.480351| 0.476967|0.473073| 0.468673|  0.46377| 0.458371| 0.452481|0.359406|0.508005|0.507188|0.505829|0.503928|0.501488| 0.49851|0.494999|0.490958| 0.48639|0.481303|0.475699|0.469586| 0.867305| 0.175855|0.340255|  -0.44712|-0.329526| -0.131609|0.44237720741614084|\n|  1.0|  0.0| 0.0| 0.0|0.0|0.0|0.0|0.0|0.0|0.0|0.0|0.0|1.0|0.0|0.0|0.0|0.0|0.0|0.0|0.0|  0.0| 0.0| 0.0|  0.0| 1.0|0.0|0.0|0.0|0.0|0.0|-0.6282978073758654| 0.10358942065491183|  0.5630967853738844|0.23486714285714286|0.17488202247191012|          0.209836|0.000767523589128114|0.000713965431841...|0.001484606297759...|0.306452|0.433156| 0.43246|0.431301| 0.42968|0.427599|0.425061|0.422067|0.418621|0.414727|0.410388| 0.40561|0.400398|0.0453952|0.0641641|0.0640611|0.0638894|0.0636493|0.063341|0.062965|0.0625215|0.062011|0.0614342|0.0607915|0.0600838|0.0593117|0.268752|0.379869|0.379258|0.378242|0.376821|0.374996|0.372769|0.370144|0.367122|0.363706|0.359902|0.355712|0.351141|-0.999937|-0.999989|0.999928|-0.0101389| 0.273321|-0.0791192|0.41813784555320904|\n+-----+-----+----+----+---+---+---+---+---+---+---+---+---+---+---+---+---+---+---+---+-----+----+----+-----+----+---+---+---+---+---+-------------------+--------------------+--------------------+-------------------+-------------------+------------------+--------------------+--------------------+--------------------+--------+--------+--------+--------+--------+--------+--------+--------+--------+--------+--------+--------+--------+---------+---------+---------+---------+---------+--------+--------+---------+--------+---------+---------+---------+---------+--------+--------+--------+--------+--------+--------+--------+--------+--------+--------+--------+--------+--------+---------+---------+--------+----------+---------+----------+-------------------+\nonly showing top 4 rows\n\n"
     ]
    }
   ],
   "source": [
    "X_test.show(4)"
   ]
  },
  {
   "cell_type": "code",
   "execution_count": 0,
   "metadata": {
    "application/vnd.databricks.v1+cell": {
     "cellMetadata": {
      "byteLimit": 2048000,
      "rowLimit": 10000
     },
     "inputWidgets": {},
     "nuid": "cc65e552-1cb7-4a79-96d0-fcc0f4ff2a29",
     "showTitle": false,
     "title": ""
    }
   },
   "outputs": [
    {
     "output_type": "stream",
     "name": "stdout",
     "output_type": "stream",
     "text": [
      "+---+\n|  Y|\n+---+\n|  H|\n|  D|\n|  D|\n|  Q|\n+---+\nonly showing top 4 rows\n\n"
     ]
    }
   ],
   "source": [
    "y_train.show(4)"
   ]
  },
  {
   "cell_type": "code",
   "execution_count": 0,
   "metadata": {
    "application/vnd.databricks.v1+cell": {
     "cellMetadata": {
      "byteLimit": 2048000,
      "rowLimit": 10000
     },
     "inputWidgets": {},
     "nuid": "6165a0ae-639f-4874-aa81-57c92c824ddc",
     "showTitle": false,
     "title": ""
    }
   },
   "outputs": [
    {
     "output_type": "stream",
     "name": "stdout",
     "output_type": "stream",
     "text": [
      "+--------+\n|ACTIVITY|\n+--------+\n|       F|\n|       F|\n|       M|\n|       D|\n+--------+\nonly showing top 4 rows\n\n"
     ]
    }
   ],
   "source": [
    "y_test.show(4)"
   ]
  },
  {
   "cell_type": "code",
   "execution_count": 0,
   "metadata": {
    "application/vnd.databricks.v1+cell": {
     "cellMetadata": {
      "byteLimit": 2048000,
      "rowLimit": 10000
     },
     "inputWidgets": {},
     "nuid": "e54640d5-8983-4163-b501-93132ffacfc9",
     "showTitle": false,
     "title": ""
    }
   },
   "outputs": [
    {
     "output_type": "stream",
     "name": "stdout",
     "output_type": "stream",
     "text": [
      "Out[52]: (5163, 15485)"
     ]
    }
   ],
   "source": [
    "X_test.count(),X_train.count()"
   ]
  },
  {
   "cell_type": "code",
   "execution_count": 0,
   "metadata": {
    "application/vnd.databricks.v1+cell": {
     "cellMetadata": {
      "byteLimit": 2048000,
      "rowLimit": 10000
     },
     "inputWidgets": {},
     "nuid": "7ceba647-cca8-448c-b976-a3abe9184528",
     "showTitle": false,
     "title": ""
    }
   },
   "outputs": [
    {
     "output_type": "stream",
     "name": "stdout",
     "output_type": "stream",
     "text": [
      "Out[53]: (5163, 15485)"
     ]
    }
   ],
   "source": [
    "y_test.count(),y_train.count()"
   ]
  },
  {
   "cell_type": "code",
   "execution_count": 0,
   "metadata": {
    "application/vnd.databricks.v1+cell": {
     "cellMetadata": {
      "byteLimit": 2048000,
      "rowLimit": 10000
     },
     "inputWidgets": {},
     "nuid": "9b8cdc59-2082-40e0-bf26-676009ca7553",
     "showTitle": true,
     "title": "Cluster-Diagrame"
    }
   },
   "outputs": [],
   "source": [
    "par_23_df = spark.read.csv(\"s3://humanactivity/Cluster_diagram/par_23_df\",header=True)"
   ]
  },
  {
   "cell_type": "code",
   "execution_count": 0,
   "metadata": {
    "application/vnd.databricks.v1+cell": {
     "cellMetadata": {
      "byteLimit": 2048000,
      "rowLimit": 10000
     },
     "inputWidgets": {},
     "nuid": "32be703f-3691-462c-bf87-e220106e06b6",
     "showTitle": false,
     "title": ""
    }
   },
   "outputs": [],
   "source": [
    "import matplotlib.pyplot as plt\n",
    "from sklearn.manifold import TSNE\n",
    "import pandas as pd\n",
    "\n",
    "# Convert the PySpark DataFrame to a Pandas DataFrame\n",
    "par_23_pd_df = par_23_df.toPandas()\n",
    "\n",
    "# Extract the features and the target variable from the Pandas DataFrame\n",
    "yy = par_23_pd_df['ACTIVITY']\n",
    "XX = par_23_pd_df.drop(['ACTIVITY','PARTICIPANT','ACT','XSTANDDEV','YSTANDDEV','ZSTANDDEV','XVAR','YVAR','ZVAR'], axis = 1)\n",
    "\n",
    "# Apply t-SNE to reduce the dimensionality of the feature space to 2 dimensions\n",
    "tsne = TSNE(n_components=2, random_state=300)\n",
    "X_2d = tsne.fit_transform(XX)\n",
    "\n",
    "# Plot the t-SNE visualization using Matplotlib\n",
    "target_ids = tuple(activity_codes_mapping.keys())\n",
    "\n",
    "plt.figure(figsize=(10, 10))\n",
    "colors = 'lime', 'red', 'blue', 'orange', 'yellow', 'lightgreen', 'greenyellow', 'magenta', 'gold', 'cyan', 'purple', 'lightgreen', 'violet', 'limegreen', 'deepskyblue', 'mediumspringgreen', 'plum', 'olive'\n",
    "\n",
    "for i, c, label in zip(target_ids, colors, tuple(activity_codes_mapping.values())):\n",
    "    plt.scatter(X_2d[yy == i, 0], X_2d[yy == i, 1], c=c, label=label)\n",
    "\n",
    "plt.legend()\n",
    "plt.show()"
   ]
  },
  {
   "cell_type": "code",
   "execution_count": 0,
   "metadata": {
    "application/vnd.databricks.v1+cell": {
     "cellMetadata": {
      "byteLimit": 2048000,
      "rowLimit": 10000
     },
     "inputWidgets": {},
     "nuid": "7d7e02ee-1d4b-4783-a841-5e0463db0edf",
     "showTitle": false,
     "title": ""
    }
   },
   "outputs": [],
   "source": [
    "par_35_df = spark.read.csv(\"s3://humanactivity/Cluster_diagram/par_35_df\",header=True)"
   ]
  },
  {
   "cell_type": "code",
   "execution_count": 0,
   "metadata": {
    "application/vnd.databricks.v1+cell": {
     "cellMetadata": {
      "byteLimit": 2048000,
      "rowLimit": 10000
     },
     "inputWidgets": {},
     "nuid": "af7af740-d348-4b30-ba0c-42d55b34baae",
     "showTitle": false,
     "title": ""
    }
   },
   "outputs": [],
   "source": [
    "# Convert the PySpark DataFrame to a Pandas DataFrame\n",
    "par_35_pd_df = par_35_df.toPandas()\n",
    "\n",
    "# Extract the features and the target variable from the Pandas DataFrame\n",
    "yy = par_23_pd_df['ACTIVITY']\n",
    "XX = par_23_pd_df.drop(['ACTIVITY','PARTICIPANT','ACT','XSTANDDEV','YSTANDDEV','ZSTANDDEV','XVAR','YVAR','ZVAR'], axis = 1)\n",
    "\n",
    "# Apply t-SNE to reduce the dimensionality of the feature space to 2 dimensions\n",
    "tsne = TSNE(n_components=2, random_state=300)\n",
    "X_2d = tsne.fit_transform(XX)\n",
    "\n",
    "# Plot the t-SNE visualization using Matplotlib\n",
    "target_ids = tuple(activity_codes_mapping.keys())\n",
    "\n",
    "plt.figure(figsize=(10, 10))\n",
    "colors = 'lime', 'red', 'blue', 'orange', 'yellow', 'lightgreen', 'greenyellow', 'magenta', 'gold', 'cyan', 'purple', 'lightgreen', 'violet', 'limegreen', 'deepskyblue', 'mediumspringgreen', 'plum', 'olive'\n",
    "\n",
    "for i, c, label in zip(target_ids, colors, tuple(activity_codes_mapping.values())):\n",
    "    plt.scatter(X_2d[yy == i, 0], X_2d[yy == i, 1], c=c, label=label)\n",
    "\n",
    "plt.legend()\n",
    "plt.show()"
   ]
  },
  {
   "cell_type": "code",
   "execution_count": 0,
   "metadata": {
    "application/vnd.databricks.v1+cell": {
     "cellMetadata": {
      "byteLimit": 2048000,
      "rowLimit": 10000
     },
     "inputWidgets": {},
     "nuid": "d33a965d-a553-4986-ade5-dd7f59c710e7",
     "showTitle": false,
     "title": ""
    }
   },
   "outputs": [],
   "source": [
    "par_40_df = spark.read.csv(\"s3://humanactivity/Cluster_diagram/par_40_df\",header=True)"
   ]
  },
  {
   "cell_type": "code",
   "execution_count": 0,
   "metadata": {
    "application/vnd.databricks.v1+cell": {
     "cellMetadata": {
      "byteLimit": 2048000,
      "rowLimit": 10000
     },
     "inputWidgets": {},
     "nuid": "f13a0cf5-91c7-449e-b2c0-8dde6b68d38a",
     "showTitle": false,
     "title": ""
    }
   },
   "outputs": [],
   "source": [
    "# Convert the PySpark DataFrame to a Pandas DataFrame\n",
    "par_40_pd_df = par_40_df.toPandas()\n",
    "\n",
    "# Extract the features and the target variable from the Pandas DataFrame\n",
    "yy = par_23_pd_df['ACTIVITY']\n",
    "XX = par_23_pd_df.drop(['ACTIVITY','PARTICIPANT','ACT','XSTANDDEV','YSTANDDEV','ZSTANDDEV','XVAR','YVAR','ZVAR'], axis = 1)\n",
    "\n",
    "# Apply t-SNE to reduce the dimensionality of the feature space to 2 dimensions\n",
    "tsne = TSNE(n_components=2, random_state=300)\n",
    "X_2d = tsne.fit_transform(XX)\n",
    "\n",
    "# Plot the t-SNE visualization using Matplotlib\n",
    "target_ids = tuple(activity_codes_mapping.keys())\n",
    "\n",
    "plt.figure(figsize=(10, 10))\n",
    "colors = 'lime', 'red', 'blue', 'orange', 'yellow', 'lightgreen', 'greenyellow', 'magenta', 'gold', 'cyan', 'purple', 'lightgreen', 'violet', 'limegreen', 'deepskyblue', 'mediumspringgreen', 'plum', 'olive'\n",
    "\n",
    "for i, c, label in zip(target_ids, colors, tuple(activity_codes_mapping.values())):\n",
    "    plt.scatter(X_2d[yy == i, 0], X_2d[yy == i, 1], c=c, label=label)\n",
    "\n",
    "plt.legend()\n",
    "plt.show()"
   ]
  },
  {
   "cell_type": "code",
   "execution_count": 0,
   "metadata": {
    "application/vnd.databricks.v1+cell": {
     "cellMetadata": {
      "byteLimit": 2048000,
      "rowLimit": 10000
     },
     "inputWidgets": {},
     "nuid": "7660c6eb-cf9a-44c1-b635-16b00f9c96c1",
     "showTitle": true,
     "title": "Application of Machine Learning Classification Models:"
    }
   },
   "outputs": [],
   "source": [
    "import pandas as pd\n",
    "import matplotlib.pyplot as plt\n",
    "from pyspark.sql.functions import count\n",
    "\n",
    "counts = y_train.groupBy('Y').agg(count('*').alias('count'))\n",
    "activity_counts_pd = counts.toPandas()\n",
    "\n",
    "activity_counts_pd.plot(kind='bar', x='Y', y='count', color='red', figsize=(15,5), legend=False, fontsize=15)\n",
    "plt.title('Row count per activity', fontsize=15)\n",
    "plt.show()\n"
   ]
  },
  {
   "cell_type": "code",
   "execution_count": 0,
   "metadata": {
    "application/vnd.databricks.v1+cell": {
     "cellMetadata": {
      "byteLimit": 2048000,
      "rowLimit": 10000
     },
     "inputWidgets": {},
     "nuid": "47450b37-ffad-4a30-abd5-63f481981b8b",
     "showTitle": true,
     "title": "## y_test Distribution"
    }
   },
   "outputs": [],
   "source": [
    "counts = y_test.groupBy('ACTIVITY').agg(count('*').alias('count'))\n",
    "activity_counts_pd = counts.toPandas()\n",
    "\n",
    "activity_counts_pd.plot(kind='bar', x='ACTIVITY', y='count', color='red', figsize=(15,5), legend=False, fontsize=15)\n",
    "plt.title('Row count per activity', fontsize=15)\n",
    "plt.show()"
   ]
  },
  {
   "cell_type": "code",
   "execution_count": 0,
   "metadata": {
    "application/vnd.databricks.v1+cell": {
     "cellMetadata": {
      "byteLimit": 2048000,
      "rowLimit": 10000
     },
     "inputWidgets": {},
     "nuid": "f87fb7db-6722-443e-b2dc-4b5341ac1940",
     "showTitle": true,
     "title": "K Nearest Neighbors Model:"
    }
   },
   "outputs": [],
   "source": [
    "from sklearn.neighbors import KNeighborsClassifier"
   ]
  },
  {
   "cell_type": "code",
   "execution_count": 0,
   "metadata": {
    "application/vnd.databricks.v1+cell": {
     "cellMetadata": {
      "byteLimit": 2048000,
      "rowLimit": 10000
     },
     "inputWidgets": {},
     "nuid": "147288c5-c98c-4019-9a0c-4702aa7b9b4e",
     "showTitle": false,
     "title": ""
    }
   },
   "outputs": [],
   "source": [
    "knn_classifier = KNeighborsClassifier()"
   ]
  },
  {
   "cell_type": "code",
   "execution_count": 0,
   "metadata": {
    "application/vnd.databricks.v1+cell": {
     "cellMetadata": {
      "byteLimit": 2048000,
      "rowLimit": 10000
     },
     "inputWidgets": {},
     "nuid": "f8fb33b3-6342-4885-a986-4733d198e879",
     "showTitle": false,
     "title": ""
    }
   },
   "outputs": [],
   "source": [
    "my_param_grid = {'n_neighbors': [5, 10, 20], 'leaf_size': [20, 30, 40]}"
   ]
  },
  {
   "cell_type": "code",
   "execution_count": 0,
   "metadata": {
    "application/vnd.databricks.v1+cell": {
     "cellMetadata": {
      "byteLimit": 2048000,
      "rowLimit": 10000
     },
     "inputWidgets": {},
     "nuid": "7ba1cec9-94d6-45e6-ae6f-2bcbcedbee3f",
     "showTitle": false,
     "title": ""
    }
   },
   "outputs": [],
   "source": [
    "from sklearn.model_selection import cross_val_score\n",
    "from sklearn.model_selection import StratifiedShuffleSplit\n",
    "from sklearn.model_selection import GroupKFold\n",
    "\n",
    "my_cv = StratifiedShuffleSplit(n_splits=5, train_size=0.7, test_size=0.3)"
   ]
  },
  {
   "cell_type": "code",
   "execution_count": 0,
   "metadata": {
    "application/vnd.databricks.v1+cell": {
     "cellMetadata": {
      "byteLimit": 2048000,
      "rowLimit": 10000
     },
     "inputWidgets": {},
     "nuid": "ea966bc2-2960-475c-988a-9bbb2d8b3a2f",
     "showTitle": false,
     "title": ""
    }
   },
   "outputs": [],
   "source": [
    "from sklearn.model_selection import GridSearchCV\n",
    "knn_model_gs = GridSearchCV(estimator = knn_classifier, \n",
    "                            param_grid = my_param_grid,\n",
    "                            cv = my_cv, \n",
    "                            scoring ='accuracy')"
   ]
  },
  {
   "cell_type": "code",
   "execution_count": 0,
   "metadata": {
    "application/vnd.databricks.v1+cell": {
     "cellMetadata": {
      "byteLimit": 2048000,
      "rowLimit": 10000
     },
     "inputWidgets": {},
     "nuid": "f2003123-138e-442d-aa91-4eef5993df1c",
     "showTitle": false,
     "title": ""
    }
   },
   "outputs": [
    {
     "output_type": "stream",
     "name": "stdout",
     "output_type": "stream",
     "text": [
      "Out[61]: (15485, 85)"
     ]
    }
   ],
   "source": [
    "X_train_pan = X_train.toPandas()\n",
    "X_train_pan.shape"
   ]
  },
  {
   "cell_type": "code",
   "execution_count": 0,
   "metadata": {
    "application/vnd.databricks.v1+cell": {
     "cellMetadata": {
      "byteLimit": 2048000,
      "rowLimit": 10000
     },
     "inputWidgets": {},
     "nuid": "0318a0bf-d670-4e19-8eee-5b71471c775d",
     "showTitle": false,
     "title": ""
    }
   },
   "outputs": [
    {
     "output_type": "stream",
     "name": "stdout",
     "output_type": "stream",
     "text": [
      "Out[64]: (15485, 1)"
     ]
    }
   ],
   "source": [
    "y_train_pan = y_train.toPandas()\n",
    "y_train_pan.shape"
   ]
  },
  {
   "cell_type": "code",
   "execution_count": 0,
   "metadata": {
    "application/vnd.databricks.v1+cell": {
     "cellMetadata": {
      "byteLimit": 2048000,
      "rowLimit": 10000
     },
     "inputWidgets": {},
     "nuid": "26920c55-1608-4870-9fe0-e0efd72d98b3",
     "showTitle": false,
     "title": ""
    }
   },
   "outputs": [],
   "source": [
    "knn_model_gs.fit(X_train_pan, y_train_pan)"
   ]
  },
  {
   "cell_type": "code",
   "execution_count": 0,
   "metadata": {
    "application/vnd.databricks.v1+cell": {
     "cellMetadata": {
      "byteLimit": 2048000,
      "rowLimit": 10000
     },
     "inputWidgets": {},
     "nuid": "e6249eef-815a-4f8b-99e8-c39c37285ace",
     "showTitle": false,
     "title": ""
    }
   },
   "outputs": [
    {
     "output_type": "stream",
     "name": "stdout",
     "output_type": "stream",
     "text": [
      "Out[67]: KNeighborsClassifier(leaf_size=20)"
     ]
    }
   ],
   "source": [
    "knn_best_classifier = knn_model_gs.best_estimator_\n",
    "knn_best_classifier"
   ]
  },
  {
   "cell_type": "code",
   "execution_count": 0,
   "metadata": {
    "application/vnd.databricks.v1+cell": {
     "cellMetadata": {
      "byteLimit": 2048000,
      "rowLimit": 10000
     },
     "inputWidgets": {},
     "nuid": "bcf72162-5898-4792-aa5c-2a15a7b863da",
     "showTitle": false,
     "title": ""
    }
   },
   "outputs": [
    {
     "output_type": "stream",
     "name": "stdout",
     "output_type": "stream",
     "text": [
      "{'leaf_size': 20, 'n_neighbors': 5}\n"
     ]
    }
   ],
   "source": [
    "print(knn_model_gs.best_params_)"
   ]
  },
  {
   "cell_type": "code",
   "execution_count": 0,
   "metadata": {
    "application/vnd.databricks.v1+cell": {
     "cellMetadata": {
      "byteLimit": 2048000,
      "rowLimit": 10000
     },
     "inputWidgets": {},
     "nuid": "8d65b17b-9cec-4017-a7f2-6f478bff1ea7",
     "showTitle": false,
     "title": ""
    }
   },
   "outputs": [
    {
     "output_type": "stream",
     "name": "stdout",
     "output_type": "stream",
     "text": [
      "Out[69]: {'mean_fit_time': array([0.21512594, 0.22158017, 0.21417394, 0.21585569, 0.21538305,\n        0.21365356, 0.21426501, 0.21886706, 0.21291003]),\n 'std_fit_time': array([0.00643368, 0.0089054 , 0.00182238, 0.00474893, 0.00261459,\n        0.00409957, 0.00411009, 0.00181726, 0.00246076]),\n 'mean_score_time': array([1.48293386, 1.48728318, 1.50197349, 1.49293113, 1.49982138,\n        1.50211878, 1.48973308, 1.50537038, 1.49796567]),\n 'std_score_time': array([0.06093053, 0.04335954, 0.06559606, 0.05221255, 0.04975976,\n        0.05890101, 0.06168007, 0.05555911, 0.06130784]),\n 'param_leaf_size': masked_array(data=[20, 20, 20, 30, 30, 30, 40, 40, 40],\n              mask=[False, False, False, False, False, False, False, False,\n                    False],\n        fill_value='?',\n             dtype=object),\n 'param_n_neighbors': masked_array(data=[5, 10, 20, 5, 10, 20, 5, 10, 20],\n              mask=[False, False, False, False, False, False, False, False,\n                    False],\n        fill_value='?',\n             dtype=object),\n 'params': [{'leaf_size': 20, 'n_neighbors': 5},\n  {'leaf_size': 20, 'n_neighbors': 10},\n  {'leaf_size': 20, 'n_neighbors': 20},\n  {'leaf_size': 30, 'n_neighbors': 5},\n  {'leaf_size': 30, 'n_neighbors': 10},\n  {'leaf_size': 30, 'n_neighbors': 20},\n  {'leaf_size': 40, 'n_neighbors': 5},\n  {'leaf_size': 40, 'n_neighbors': 10},\n  {'leaf_size': 40, 'n_neighbors': 20}],\n 'split0_test_score': array([0.73762376, 0.69586741, 0.62010331, 0.73762376, 0.69586741,\n        0.62010331, 0.73762376, 0.69586741, 0.62010331]),\n 'split1_test_score': array([0.74343521, 0.70275506, 0.62785192, 0.74343521, 0.70275506,\n        0.62785192, 0.74343521, 0.70275506, 0.62785192]),\n 'split2_test_score': array([0.73568661, 0.69888076, 0.63151098, 0.73568661, 0.69888076,\n        0.63151098, 0.73568661, 0.69888076, 0.63151098]),\n 'split3_test_score': array([0.73977615, 0.70253982, 0.6183814 , 0.73977615, 0.70253982,\n        0.6183814 , 0.73977615, 0.70253982, 0.6183814 ]),\n 'split4_test_score': array([0.7455876 , 0.70318554, 0.62763668, 0.7455876 , 0.70318554,\n        0.62763668, 0.7455876 , 0.70318554, 0.62763668]),\n 'mean_test_score': array([0.74042187, 0.70064572, 0.62509686, 0.74042187, 0.70064572,\n        0.62509686, 0.74042187, 0.70064572, 0.62509686]),\n 'std_test_score': array([0.00364511, 0.00284376, 0.00500429, 0.00364511, 0.00284376,\n        0.00500429, 0.00364511, 0.00284376, 0.00500429]),\n 'rank_test_score': array([1, 4, 7, 1, 4, 7, 1, 4, 7], dtype=int32)}"
     ]
    }
   ],
   "source": [
    "knn_model_gs.cv_results_"
   ]
  },
  {
   "cell_type": "code",
   "execution_count": 0,
   "metadata": {
    "application/vnd.databricks.v1+cell": {
     "cellMetadata": {
      "byteLimit": 2048000,
      "rowLimit": 10000
     },
     "inputWidgets": {},
     "nuid": "fcde93bf-d2c9-4d17-8057-9db933e5964c",
     "showTitle": false,
     "title": ""
    }
   },
   "outputs": [
    {
     "output_type": "stream",
     "name": "stdout",
     "output_type": "stream",
     "text": [
      "Out[70]: {'algorithm': 'auto',\n 'leaf_size': 20,\n 'metric': 'minkowski',\n 'metric_params': None,\n 'n_jobs': None,\n 'n_neighbors': 5,\n 'p': 2,\n 'weights': 'uniform'}"
     ]
    }
   ],
   "source": [
    "knn_best_classifier.get_params()"
   ]
  },
  {
   "cell_type": "code",
   "execution_count": 0,
   "metadata": {
    "application/vnd.databricks.v1+cell": {
     "cellMetadata": {
      "byteLimit": 2048000,
      "rowLimit": 10000
     },
     "inputWidgets": {},
     "nuid": "a9630797-5517-4462-9a62-9ef0a793c9bd",
     "showTitle": false,
     "title": ""
    }
   },
   "outputs": [
    {
     "output_type": "stream",
     "name": "stdout",
     "output_type": "stream",
     "text": [
      "/databricks/python/lib/python3.9/site-packages/sklearn/neighbors/_classification.py:179: DataConversionWarning: A column-vector y was passed when a 1d array was expected. Please change the shape of y to (n_samples,), for example using ravel().\n  return self._fit(X, y)\n/databricks/python/lib/python3.9/site-packages/sklearn/neighbors/_classification.py:179: DataConversionWarning: A column-vector y was passed when a 1d array was expected. Please change the shape of y to (n_samples,), for example using ravel().\n  return self._fit(X, y)\n/databricks/python/lib/python3.9/site-packages/sklearn/neighbors/_classification.py:179: DataConversionWarning: A column-vector y was passed when a 1d array was expected. Please change the shape of y to (n_samples,), for example using ravel().\n  return self._fit(X, y)\n/databricks/python/lib/python3.9/site-packages/sklearn/neighbors/_classification.py:179: DataConversionWarning: A column-vector y was passed when a 1d array was expected. Please change the shape of y to (n_samples,), for example using ravel().\n  return self._fit(X, y)\n/databricks/python/lib/python3.9/site-packages/sklearn/neighbors/_classification.py:179: DataConversionWarning: A column-vector y was passed when a 1d array was expected. Please change the shape of y to (n_samples,), for example using ravel().\n  return self._fit(X, y)\nOut[72]: [0.7477399913904433,\n 0.7470942746448558,\n 0.7294446835987947,\n 0.7354713732242789,\n 0.7488161859664227]"
     ]
    }
   ],
   "source": [
    "scores = cross_val_score(knn_best_classifier, X_train_pan, y_train_pan, cv=my_cv, scoring='accuracy')\n",
    "list(scores)"
   ]
  },
  {
   "cell_type": "code",
   "execution_count": 0,
   "metadata": {
    "application/vnd.databricks.v1+cell": {
     "cellMetadata": {
      "byteLimit": 2048000,
      "rowLimit": 10000
     },
     "inputWidgets": {},
     "nuid": "cf3f9efd-4c7d-4523-ad54-b120639bfd64",
     "showTitle": false,
     "title": ""
    }
   },
   "outputs": [],
   "source": [
    "y_train_pred=knn_best_classifier.predict(X_train_pan)"
   ]
  },
  {
   "cell_type": "code",
   "execution_count": 0,
   "metadata": {
    "application/vnd.databricks.v1+cell": {
     "cellMetadata": {
      "byteLimit": 2048000,
      "rowLimit": 10000
     },
     "inputWidgets": {},
     "nuid": "40a1907b-223b-400f-abf1-7007b451edfb",
     "showTitle": false,
     "title": ""
    }
   },
   "outputs": [
    {
     "output_type": "stream",
     "name": "stdout",
     "output_type": "stream",
     "text": [
      "Out[76]: 0.8407491120439134"
     ]
    }
   ],
   "source": [
    "from sklearn.metrics import accuracy_score\n",
    "accuracy_score(y_true=y_train_pan, y_pred=y_train_pred)"
   ]
  },
  {
   "cell_type": "code",
   "execution_count": 0,
   "metadata": {
    "application/vnd.databricks.v1+cell": {
     "cellMetadata": {
      "byteLimit": 2048000,
      "rowLimit": 10000
     },
     "inputWidgets": {},
     "nuid": "1528ee4d-5602-4baf-bcd9-71c9c2042a84",
     "showTitle": false,
     "title": ""
    }
   },
   "outputs": [],
   "source": [
    "X_test_pan = X_test.toPandas()\n",
    "y_test_pred = knn_best_classifier.predict(X_test_pan)"
   ]
  },
  {
   "cell_type": "code",
   "execution_count": 0,
   "metadata": {
    "application/vnd.databricks.v1+cell": {
     "cellMetadata": {
      "byteLimit": 2048000,
      "rowLimit": 10000
     },
     "inputWidgets": {},
     "nuid": "3a5dd6fe-9dc3-432e-86bf-3bf1433cdc53",
     "showTitle": false,
     "title": ""
    }
   },
   "outputs": [],
   "source": [
    "y_test_pan = y_test.toPandas()"
   ]
  },
  {
   "cell_type": "code",
   "execution_count": 0,
   "metadata": {
    "application/vnd.databricks.v1+cell": {
     "cellMetadata": {
      "byteLimit": 2048000,
      "rowLimit": 10000
     },
     "inputWidgets": {},
     "nuid": "a6e7a644-2ed3-41de-a8f4-8500403f3fc0",
     "showTitle": false,
     "title": ""
    }
   },
   "outputs": [
    {
     "output_type": "display_data",
     "data": {
      "text/html": [
       "<div>\n<style scoped>\n    .dataframe tbody tr th:only-of-type {\n        vertical-align: middle;\n    }\n\n    .dataframe tbody tr th {\n        vertical-align: top;\n    }\n\n    .dataframe thead th {\n        text-align: right;\n    }\n</style>\n<table border=\"1\" class=\"dataframe\">\n  <thead>\n    <tr style=\"text-align: right;\">\n      <th></th>\n      <th>walking</th>\n      <th>jogging</th>\n      <th>stairs</th>\n      <th>sitting</th>\n      <th>standing</th>\n      <th>typing</th>\n      <th>brushing teeth</th>\n      <th>eating soup</th>\n      <th>eating chips</th>\n      <th>eating pasta</th>\n      <th>drinking from cup</th>\n      <th>eating sandwich</th>\n      <th>kicking soccer ball</th>\n      <th>playing catch tennis ball</th>\n      <th>dribbling basket ball</th>\n      <th>writing</th>\n      <th>clapping</th>\n      <th>folding clothes</th>\n    </tr>\n  </thead>\n  <tbody>\n    <tr>\n      <th>walking</th>\n      <td>282</td>\n      <td>1</td>\n      <td>5</td>\n      <td>1</td>\n      <td>0</td>\n      <td>0</td>\n      <td>0</td>\n      <td>0</td>\n      <td>0</td>\n      <td>0</td>\n      <td>0</td>\n      <td>0</td>\n      <td>1</td>\n      <td>2</td>\n      <td>0</td>\n      <td>0</td>\n      <td>0</td>\n      <td>0</td>\n    </tr>\n    <tr>\n      <th>jogging</th>\n      <td>11</td>\n      <td>280</td>\n      <td>3</td>\n      <td>1</td>\n      <td>0</td>\n      <td>0</td>\n      <td>0</td>\n      <td>0</td>\n      <td>0</td>\n      <td>0</td>\n      <td>0</td>\n      <td>0</td>\n      <td>3</td>\n      <td>1</td>\n      <td>0</td>\n      <td>0</td>\n      <td>0</td>\n      <td>0</td>\n    </tr>\n    <tr>\n      <th>stairs</th>\n      <td>19</td>\n      <td>8</td>\n      <td>232</td>\n      <td>0</td>\n      <td>0</td>\n      <td>0</td>\n      <td>0</td>\n      <td>0</td>\n      <td>0</td>\n      <td>0</td>\n      <td>0</td>\n      <td>0</td>\n      <td>7</td>\n      <td>1</td>\n      <td>1</td>\n      <td>0</td>\n      <td>0</td>\n      <td>0</td>\n    </tr>\n    <tr>\n      <th>sitting</th>\n      <td>1</td>\n      <td>1</td>\n      <td>7</td>\n      <td>204</td>\n      <td>4</td>\n      <td>8</td>\n      <td>10</td>\n      <td>12</td>\n      <td>8</td>\n      <td>1</td>\n      <td>9</td>\n      <td>4</td>\n      <td>1</td>\n      <td>2</td>\n      <td>1</td>\n      <td>11</td>\n      <td>2</td>\n      <td>3</td>\n    </tr>\n    <tr>\n      <th>standing</th>\n      <td>0</td>\n      <td>0</td>\n      <td>1</td>\n      <td>3</td>\n      <td>231</td>\n      <td>6</td>\n      <td>2</td>\n      <td>3</td>\n      <td>3</td>\n      <td>6</td>\n      <td>2</td>\n      <td>7</td>\n      <td>0</td>\n      <td>8</td>\n      <td>4</td>\n      <td>3</td>\n      <td>4</td>\n      <td>11</td>\n    </tr>\n    <tr>\n      <th>typing</th>\n      <td>0</td>\n      <td>0</td>\n      <td>0</td>\n      <td>8</td>\n      <td>11</td>\n      <td>199</td>\n      <td>3</td>\n      <td>6</td>\n      <td>15</td>\n      <td>1</td>\n      <td>6</td>\n      <td>5</td>\n      <td>0</td>\n      <td>0</td>\n      <td>1</td>\n      <td>7</td>\n      <td>2</td>\n      <td>4</td>\n    </tr>\n    <tr>\n      <th>brushing teeth</th>\n      <td>0</td>\n      <td>1</td>\n      <td>1</td>\n      <td>5</td>\n      <td>1</td>\n      <td>3</td>\n      <td>244</td>\n      <td>1</td>\n      <td>9</td>\n      <td>2</td>\n      <td>2</td>\n      <td>5</td>\n      <td>0</td>\n      <td>3</td>\n      <td>2</td>\n      <td>6</td>\n      <td>5</td>\n      <td>4</td>\n    </tr>\n    <tr>\n      <th>eating soup</th>\n      <td>0</td>\n      <td>0</td>\n      <td>0</td>\n      <td>6</td>\n      <td>13</td>\n      <td>14</td>\n      <td>9</td>\n      <td>185</td>\n      <td>7</td>\n      <td>13</td>\n      <td>11</td>\n      <td>13</td>\n      <td>3</td>\n      <td>1</td>\n      <td>0</td>\n      <td>5</td>\n      <td>4</td>\n      <td>2</td>\n    </tr>\n    <tr>\n      <th>eating chips</th>\n      <td>0</td>\n      <td>0</td>\n      <td>2</td>\n      <td>11</td>\n      <td>7</td>\n      <td>10</td>\n      <td>13</td>\n      <td>14</td>\n      <td>175</td>\n      <td>16</td>\n      <td>12</td>\n      <td>9</td>\n      <td>0</td>\n      <td>1</td>\n      <td>1</td>\n      <td>7</td>\n      <td>1</td>\n      <td>3</td>\n    </tr>\n    <tr>\n      <th>eating pasta</th>\n      <td>1</td>\n      <td>0</td>\n      <td>0</td>\n      <td>3</td>\n      <td>3</td>\n      <td>9</td>\n      <td>12</td>\n      <td>15</td>\n      <td>13</td>\n      <td>186</td>\n      <td>11</td>\n      <td>10</td>\n      <td>1</td>\n      <td>1</td>\n      <td>1</td>\n      <td>2</td>\n      <td>1</td>\n      <td>0</td>\n    </tr>\n    <tr>\n      <th>drinking from cup</th>\n      <td>1</td>\n      <td>0</td>\n      <td>1</td>\n      <td>7</td>\n      <td>2</td>\n      <td>11</td>\n      <td>21</td>\n      <td>24</td>\n      <td>12</td>\n      <td>14</td>\n      <td>168</td>\n      <td>13</td>\n      <td>0</td>\n      <td>0</td>\n      <td>1</td>\n      <td>13</td>\n      <td>6</td>\n      <td>7</td>\n    </tr>\n    <tr>\n      <th>eating sandwich</th>\n      <td>1</td>\n      <td>0</td>\n      <td>1</td>\n      <td>7</td>\n      <td>6</td>\n      <td>10</td>\n      <td>7</td>\n      <td>9</td>\n      <td>5</td>\n      <td>14</td>\n      <td>23</td>\n      <td>183</td>\n      <td>1</td>\n      <td>2</td>\n      <td>2</td>\n      <td>6</td>\n      <td>2</td>\n      <td>4</td>\n    </tr>\n    <tr>\n      <th>kicking soccer ball</th>\n      <td>15</td>\n      <td>3</td>\n      <td>13</td>\n      <td>1</td>\n      <td>1</td>\n      <td>0</td>\n      <td>1</td>\n      <td>0</td>\n      <td>0</td>\n      <td>1</td>\n      <td>1</td>\n      <td>1</td>\n      <td>246</td>\n      <td>12</td>\n      <td>3</td>\n      <td>1</td>\n      <td>0</td>\n      <td>0</td>\n    </tr>\n    <tr>\n      <th>playing catch tennis ball</th>\n      <td>3</td>\n      <td>2</td>\n      <td>4</td>\n      <td>0</td>\n      <td>4</td>\n      <td>0</td>\n      <td>1</td>\n      <td>0</td>\n      <td>0</td>\n      <td>0</td>\n      <td>0</td>\n      <td>1</td>\n      <td>36</td>\n      <td>217</td>\n      <td>17</td>\n      <td>0</td>\n      <td>0</td>\n      <td>5</td>\n    </tr>\n    <tr>\n      <th>dribbling basket ball</th>\n      <td>0</td>\n      <td>0</td>\n      <td>8</td>\n      <td>0</td>\n      <td>2</td>\n      <td>0</td>\n      <td>0</td>\n      <td>0</td>\n      <td>1</td>\n      <td>0</td>\n      <td>2</td>\n      <td>0</td>\n      <td>13</td>\n      <td>18</td>\n      <td>232</td>\n      <td>0</td>\n      <td>2</td>\n      <td>9</td>\n    </tr>\n    <tr>\n      <th>writing</th>\n      <td>0</td>\n      <td>0</td>\n      <td>1</td>\n      <td>11</td>\n      <td>4</td>\n      <td>11</td>\n      <td>4</td>\n      <td>3</td>\n      <td>2</td>\n      <td>4</td>\n      <td>11</td>\n      <td>3</td>\n      <td>0</td>\n      <td>1</td>\n      <td>6</td>\n      <td>216</td>\n      <td>3</td>\n      <td>3</td>\n    </tr>\n    <tr>\n      <th>clapping</th>\n      <td>0</td>\n      <td>1</td>\n      <td>2</td>\n      <td>12</td>\n      <td>7</td>\n      <td>6</td>\n      <td>4</td>\n      <td>11</td>\n      <td>2</td>\n      <td>1</td>\n      <td>10</td>\n      <td>5</td>\n      <td>1</td>\n      <td>2</td>\n      <td>2</td>\n      <td>7</td>\n      <td>217</td>\n      <td>1</td>\n    </tr>\n    <tr>\n      <th>folding clothes</th>\n      <td>4</td>\n      <td>2</td>\n      <td>2</td>\n      <td>7</td>\n      <td>4</td>\n      <td>3</td>\n      <td>3</td>\n      <td>3</td>\n      <td>1</td>\n      <td>2</td>\n      <td>3</td>\n      <td>5</td>\n      <td>1</td>\n      <td>10</td>\n      <td>9</td>\n      <td>0</td>\n      <td>5</td>\n      <td>224</td>\n    </tr>\n  </tbody>\n</table>\n</div>"
      ]
     },
     "metadata": {
      "application/vnd.databricks.v1+output": {
       "addedWidgets": {},
       "arguments": {},
       "data": "<div>\n<style scoped>\n    .dataframe tbody tr th:only-of-type {\n        vertical-align: middle;\n    }\n\n    .dataframe tbody tr th {\n        vertical-align: top;\n    }\n\n    .dataframe thead th {\n        text-align: right;\n    }\n</style>\n<table border=\"1\" class=\"dataframe\">\n  <thead>\n    <tr style=\"text-align: right;\">\n      <th></th>\n      <th>walking</th>\n      <th>jogging</th>\n      <th>stairs</th>\n      <th>sitting</th>\n      <th>standing</th>\n      <th>typing</th>\n      <th>brushing teeth</th>\n      <th>eating soup</th>\n      <th>eating chips</th>\n      <th>eating pasta</th>\n      <th>drinking from cup</th>\n      <th>eating sandwich</th>\n      <th>kicking soccer ball</th>\n      <th>playing catch tennis ball</th>\n      <th>dribbling basket ball</th>\n      <th>writing</th>\n      <th>clapping</th>\n      <th>folding clothes</th>\n    </tr>\n  </thead>\n  <tbody>\n    <tr>\n      <th>walking</th>\n      <td>282</td>\n      <td>1</td>\n      <td>5</td>\n      <td>1</td>\n      <td>0</td>\n      <td>0</td>\n      <td>0</td>\n      <td>0</td>\n      <td>0</td>\n      <td>0</td>\n      <td>0</td>\n      <td>0</td>\n      <td>1</td>\n      <td>2</td>\n      <td>0</td>\n      <td>0</td>\n      <td>0</td>\n      <td>0</td>\n    </tr>\n    <tr>\n      <th>jogging</th>\n      <td>11</td>\n      <td>280</td>\n      <td>3</td>\n      <td>1</td>\n      <td>0</td>\n      <td>0</td>\n      <td>0</td>\n      <td>0</td>\n      <td>0</td>\n      <td>0</td>\n      <td>0</td>\n      <td>0</td>\n      <td>3</td>\n      <td>1</td>\n      <td>0</td>\n      <td>0</td>\n      <td>0</td>\n      <td>0</td>\n    </tr>\n    <tr>\n      <th>stairs</th>\n      <td>19</td>\n      <td>8</td>\n      <td>232</td>\n      <td>0</td>\n      <td>0</td>\n      <td>0</td>\n      <td>0</td>\n      <td>0</td>\n      <td>0</td>\n      <td>0</td>\n      <td>0</td>\n      <td>0</td>\n      <td>7</td>\n      <td>1</td>\n      <td>1</td>\n      <td>0</td>\n      <td>0</td>\n      <td>0</td>\n    </tr>\n    <tr>\n      <th>sitting</th>\n      <td>1</td>\n      <td>1</td>\n      <td>7</td>\n      <td>204</td>\n      <td>4</td>\n      <td>8</td>\n      <td>10</td>\n      <td>12</td>\n      <td>8</td>\n      <td>1</td>\n      <td>9</td>\n      <td>4</td>\n      <td>1</td>\n      <td>2</td>\n      <td>1</td>\n      <td>11</td>\n      <td>2</td>\n      <td>3</td>\n    </tr>\n    <tr>\n      <th>standing</th>\n      <td>0</td>\n      <td>0</td>\n      <td>1</td>\n      <td>3</td>\n      <td>231</td>\n      <td>6</td>\n      <td>2</td>\n      <td>3</td>\n      <td>3</td>\n      <td>6</td>\n      <td>2</td>\n      <td>7</td>\n      <td>0</td>\n      <td>8</td>\n      <td>4</td>\n      <td>3</td>\n      <td>4</td>\n      <td>11</td>\n    </tr>\n    <tr>\n      <th>typing</th>\n      <td>0</td>\n      <td>0</td>\n      <td>0</td>\n      <td>8</td>\n      <td>11</td>\n      <td>199</td>\n      <td>3</td>\n      <td>6</td>\n      <td>15</td>\n      <td>1</td>\n      <td>6</td>\n      <td>5</td>\n      <td>0</td>\n      <td>0</td>\n      <td>1</td>\n      <td>7</td>\n      <td>2</td>\n      <td>4</td>\n    </tr>\n    <tr>\n      <th>brushing teeth</th>\n      <td>0</td>\n      <td>1</td>\n      <td>1</td>\n      <td>5</td>\n      <td>1</td>\n      <td>3</td>\n      <td>244</td>\n      <td>1</td>\n      <td>9</td>\n      <td>2</td>\n      <td>2</td>\n      <td>5</td>\n      <td>0</td>\n      <td>3</td>\n      <td>2</td>\n      <td>6</td>\n      <td>5</td>\n      <td>4</td>\n    </tr>\n    <tr>\n      <th>eating soup</th>\n      <td>0</td>\n      <td>0</td>\n      <td>0</td>\n      <td>6</td>\n      <td>13</td>\n      <td>14</td>\n      <td>9</td>\n      <td>185</td>\n      <td>7</td>\n      <td>13</td>\n      <td>11</td>\n      <td>13</td>\n      <td>3</td>\n      <td>1</td>\n      <td>0</td>\n      <td>5</td>\n      <td>4</td>\n      <td>2</td>\n    </tr>\n    <tr>\n      <th>eating chips</th>\n      <td>0</td>\n      <td>0</td>\n      <td>2</td>\n      <td>11</td>\n      <td>7</td>\n      <td>10</td>\n      <td>13</td>\n      <td>14</td>\n      <td>175</td>\n      <td>16</td>\n      <td>12</td>\n      <td>9</td>\n      <td>0</td>\n      <td>1</td>\n      <td>1</td>\n      <td>7</td>\n      <td>1</td>\n      <td>3</td>\n    </tr>\n    <tr>\n      <th>eating pasta</th>\n      <td>1</td>\n      <td>0</td>\n      <td>0</td>\n      <td>3</td>\n      <td>3</td>\n      <td>9</td>\n      <td>12</td>\n      <td>15</td>\n      <td>13</td>\n      <td>186</td>\n      <td>11</td>\n      <td>10</td>\n      <td>1</td>\n      <td>1</td>\n      <td>1</td>\n      <td>2</td>\n      <td>1</td>\n      <td>0</td>\n    </tr>\n    <tr>\n      <th>drinking from cup</th>\n      <td>1</td>\n      <td>0</td>\n      <td>1</td>\n      <td>7</td>\n      <td>2</td>\n      <td>11</td>\n      <td>21</td>\n      <td>24</td>\n      <td>12</td>\n      <td>14</td>\n      <td>168</td>\n      <td>13</td>\n      <td>0</td>\n      <td>0</td>\n      <td>1</td>\n      <td>13</td>\n      <td>6</td>\n      <td>7</td>\n    </tr>\n    <tr>\n      <th>eating sandwich</th>\n      <td>1</td>\n      <td>0</td>\n      <td>1</td>\n      <td>7</td>\n      <td>6</td>\n      <td>10</td>\n      <td>7</td>\n      <td>9</td>\n      <td>5</td>\n      <td>14</td>\n      <td>23</td>\n      <td>183</td>\n      <td>1</td>\n      <td>2</td>\n      <td>2</td>\n      <td>6</td>\n      <td>2</td>\n      <td>4</td>\n    </tr>\n    <tr>\n      <th>kicking soccer ball</th>\n      <td>15</td>\n      <td>3</td>\n      <td>13</td>\n      <td>1</td>\n      <td>1</td>\n      <td>0</td>\n      <td>1</td>\n      <td>0</td>\n      <td>0</td>\n      <td>1</td>\n      <td>1</td>\n      <td>1</td>\n      <td>246</td>\n      <td>12</td>\n      <td>3</td>\n      <td>1</td>\n      <td>0</td>\n      <td>0</td>\n    </tr>\n    <tr>\n      <th>playing catch tennis ball</th>\n      <td>3</td>\n      <td>2</td>\n      <td>4</td>\n      <td>0</td>\n      <td>4</td>\n      <td>0</td>\n      <td>1</td>\n      <td>0</td>\n      <td>0</td>\n      <td>0</td>\n      <td>0</td>\n      <td>1</td>\n      <td>36</td>\n      <td>217</td>\n      <td>17</td>\n      <td>0</td>\n      <td>0</td>\n      <td>5</td>\n    </tr>\n    <tr>\n      <th>dribbling basket ball</th>\n      <td>0</td>\n      <td>0</td>\n      <td>8</td>\n      <td>0</td>\n      <td>2</td>\n      <td>0</td>\n      <td>0</td>\n      <td>0</td>\n      <td>1</td>\n      <td>0</td>\n      <td>2</td>\n      <td>0</td>\n      <td>13</td>\n      <td>18</td>\n      <td>232</td>\n      <td>0</td>\n      <td>2</td>\n      <td>9</td>\n    </tr>\n    <tr>\n      <th>writing</th>\n      <td>0</td>\n      <td>0</td>\n      <td>1</td>\n      <td>11</td>\n      <td>4</td>\n      <td>11</td>\n      <td>4</td>\n      <td>3</td>\n      <td>2</td>\n      <td>4</td>\n      <td>11</td>\n      <td>3</td>\n      <td>0</td>\n      <td>1</td>\n      <td>6</td>\n      <td>216</td>\n      <td>3</td>\n      <td>3</td>\n    </tr>\n    <tr>\n      <th>clapping</th>\n      <td>0</td>\n      <td>1</td>\n      <td>2</td>\n      <td>12</td>\n      <td>7</td>\n      <td>6</td>\n      <td>4</td>\n      <td>11</td>\n      <td>2</td>\n      <td>1</td>\n      <td>10</td>\n      <td>5</td>\n      <td>1</td>\n      <td>2</td>\n      <td>2</td>\n      <td>7</td>\n      <td>217</td>\n      <td>1</td>\n    </tr>\n    <tr>\n      <th>folding clothes</th>\n      <td>4</td>\n      <td>2</td>\n      <td>2</td>\n      <td>7</td>\n      <td>4</td>\n      <td>3</td>\n      <td>3</td>\n      <td>3</td>\n      <td>1</td>\n      <td>2</td>\n      <td>3</td>\n      <td>5</td>\n      <td>1</td>\n      <td>10</td>\n      <td>9</td>\n      <td>0</td>\n      <td>5</td>\n      <td>224</td>\n    </tr>\n  </tbody>\n</table>\n</div>",
       "datasetInfos": [],
       "metadata": {},
       "removedWidgets": [],
       "textData": null,
       "type": "htmlSandbox"
      }
     },
     "output_type": "display_data"
    }
   ],
   "source": [
    "from sklearn.metrics import confusion_matrix\n",
    "cm = confusion_matrix(y_true=y_test_pan,\n",
    "                      y_pred=y_test_pred)\n",
    "    \n",
    "cm_act = pd.DataFrame(cm,\n",
    "                      index = knn_best_classifier.classes_,\n",
    "                      columns = knn_best_classifier.classes_)\n",
    "\n",
    "cm_act.columns = activity_codes_mapping.values()\n",
    "cm_act.index = activity_codes_mapping.values()\n",
    "cm_act"
   ]
  },
  {
   "cell_type": "code",
   "execution_count": 0,
   "metadata": {
    "application/vnd.databricks.v1+cell": {
     "cellMetadata": {
      "byteLimit": 2048000,
      "rowLimit": 10000
     },
     "inputWidgets": {},
     "nuid": "dff4f313-9a76-4463-9091-0207d90b5e28",
     "showTitle": false,
     "title": ""
    }
   },
   "outputs": [],
   "source": [
    "import seaborn as sns\n",
    "sns.set(font_scale=1.6)\n",
    "fig, ax = plt.subplots(figsize=(12,10))\n",
    "_ = sns.heatmap(cm_act, cmap=\"YlGnBu\")"
   ]
  },
  {
   "cell_type": "code",
   "execution_count": 0,
   "metadata": {
    "application/vnd.databricks.v1+cell": {
     "cellMetadata": {
      "byteLimit": 2048000,
      "rowLimit": 10000
     },
     "inputWidgets": {},
     "nuid": "ca7dc56b-7e04-441b-9ad4-eec9051f4e75",
     "showTitle": false,
     "title": ""
    }
   },
   "outputs": [
    {
     "output_type": "display_data",
     "data": {
      "text/html": [
       "<div>\n<style scoped>\n    .dataframe tbody tr th:only-of-type {\n        vertical-align: middle;\n    }\n\n    .dataframe tbody tr th {\n        vertical-align: top;\n    }\n\n    .dataframe thead th {\n        text-align: right;\n    }\n</style>\n<table border=\"1\" class=\"dataframe\">\n  <thead>\n    <tr style=\"text-align: right;\">\n      <th></th>\n      <th>0</th>\n    </tr>\n  </thead>\n  <tbody>\n    <tr>\n      <th>walking</th>\n      <td>0.965753</td>\n    </tr>\n    <tr>\n      <th>jogging</th>\n      <td>0.936455</td>\n    </tr>\n    <tr>\n      <th>stairs</th>\n      <td>0.865672</td>\n    </tr>\n    <tr>\n      <th>sitting</th>\n      <td>0.705882</td>\n    </tr>\n    <tr>\n      <th>standing</th>\n      <td>0.785714</td>\n    </tr>\n    <tr>\n      <th>typing</th>\n      <td>0.742537</td>\n    </tr>\n    <tr>\n      <th>brushing teeth</th>\n      <td>0.829932</td>\n    </tr>\n    <tr>\n      <th>eating soup</th>\n      <td>0.646853</td>\n    </tr>\n    <tr>\n      <th>eating chips</th>\n      <td>0.620567</td>\n    </tr>\n    <tr>\n      <th>eating pasta</th>\n      <td>0.691450</td>\n    </tr>\n    <tr>\n      <th>drinking from cup</th>\n      <td>0.558140</td>\n    </tr>\n    <tr>\n      <th>eating sandwich</th>\n      <td>0.646643</td>\n    </tr>\n    <tr>\n      <th>kicking soccer ball</th>\n      <td>0.822742</td>\n    </tr>\n    <tr>\n      <th>playing catch tennis ball</th>\n      <td>0.748276</td>\n    </tr>\n    <tr>\n      <th>dribbling basket ball</th>\n      <td>0.808362</td>\n    </tr>\n    <tr>\n      <th>writing</th>\n      <td>0.763251</td>\n    </tr>\n    <tr>\n      <th>clapping</th>\n      <td>0.745704</td>\n    </tr>\n    <tr>\n      <th>folding clothes</th>\n      <td>0.777778</td>\n    </tr>\n  </tbody>\n</table>\n</div>"
      ]
     },
     "metadata": {
      "application/vnd.databricks.v1+output": {
       "addedWidgets": {},
       "arguments": {},
       "data": "<div>\n<style scoped>\n    .dataframe tbody tr th:only-of-type {\n        vertical-align: middle;\n    }\n\n    .dataframe tbody tr th {\n        vertical-align: top;\n    }\n\n    .dataframe thead th {\n        text-align: right;\n    }\n</style>\n<table border=\"1\" class=\"dataframe\">\n  <thead>\n    <tr style=\"text-align: right;\">\n      <th></th>\n      <th>0</th>\n    </tr>\n  </thead>\n  <tbody>\n    <tr>\n      <th>walking</th>\n      <td>0.965753</td>\n    </tr>\n    <tr>\n      <th>jogging</th>\n      <td>0.936455</td>\n    </tr>\n    <tr>\n      <th>stairs</th>\n      <td>0.865672</td>\n    </tr>\n    <tr>\n      <th>sitting</th>\n      <td>0.705882</td>\n    </tr>\n    <tr>\n      <th>standing</th>\n      <td>0.785714</td>\n    </tr>\n    <tr>\n      <th>typing</th>\n      <td>0.742537</td>\n    </tr>\n    <tr>\n      <th>brushing teeth</th>\n      <td>0.829932</td>\n    </tr>\n    <tr>\n      <th>eating soup</th>\n      <td>0.646853</td>\n    </tr>\n    <tr>\n      <th>eating chips</th>\n      <td>0.620567</td>\n    </tr>\n    <tr>\n      <th>eating pasta</th>\n      <td>0.691450</td>\n    </tr>\n    <tr>\n      <th>drinking from cup</th>\n      <td>0.558140</td>\n    </tr>\n    <tr>\n      <th>eating sandwich</th>\n      <td>0.646643</td>\n    </tr>\n    <tr>\n      <th>kicking soccer ball</th>\n      <td>0.822742</td>\n    </tr>\n    <tr>\n      <th>playing catch tennis ball</th>\n      <td>0.748276</td>\n    </tr>\n    <tr>\n      <th>dribbling basket ball</th>\n      <td>0.808362</td>\n    </tr>\n    <tr>\n      <th>writing</th>\n      <td>0.763251</td>\n    </tr>\n    <tr>\n      <th>clapping</th>\n      <td>0.745704</td>\n    </tr>\n    <tr>\n      <th>folding clothes</th>\n      <td>0.777778</td>\n    </tr>\n  </tbody>\n</table>\n</div>",
       "datasetInfos": [],
       "metadata": {},
       "removedWidgets": [],
       "textData": null,
       "type": "htmlSandbox"
      }
     },
     "output_type": "display_data"
    }
   ],
   "source": [
    "import numpy as np\n",
    "accuracy_per_activity = pd.DataFrame([cm_act.iloc[i][i]/np.sum(cm_act.iloc[i]) for i in range(18)],index=activity_codes_mapping.values())\n",
    "accuracy_per_activity"
   ]
  },
  {
   "cell_type": "code",
   "execution_count": 0,
   "metadata": {
    "application/vnd.databricks.v1+cell": {
     "cellMetadata": {
      "byteLimit": 2048000,
      "rowLimit": 10000
     },
     "inputWidgets": {},
     "nuid": "7b738f5f-66f6-4fef-9c9f-4718be81d6e1",
     "showTitle": false,
     "title": ""
    }
   },
   "outputs": [
    {
     "output_type": "stream",
     "name": "stdout",
     "output_type": "stream",
     "text": [
      "              precision    recall  f1-score   support\n\n           A       0.83      0.97      0.90       292\n           B       0.94      0.94      0.94       299\n           C       0.82      0.87      0.84       268\n           D       0.71      0.71      0.71       289\n           E       0.77      0.79      0.78       294\n           F       0.69      0.74      0.71       268\n           G       0.73      0.83      0.78       294\n           H       0.65      0.65      0.65       286\n           I       0.69      0.62      0.65       282\n           J       0.71      0.69      0.70       269\n           K       0.62      0.56      0.59       301\n           L       0.69      0.65      0.67       283\n           M       0.78      0.82      0.80       299\n           O       0.77      0.75      0.76       290\n           P       0.82      0.81      0.81       287\n           Q       0.76      0.76      0.76       283\n           R       0.85      0.75      0.80       291\n           S       0.80      0.78      0.79       288\n\n    accuracy                           0.76      5163\n   macro avg       0.76      0.76      0.76      5163\nweighted avg       0.76      0.76      0.76      5163\n\n"
     ]
    }
   ],
   "source": [
    "from sklearn.metrics import classification_report\n",
    "print(classification_report(y_true=y_test_pan,\n",
    "                            y_pred=y_test_pred))"
   ]
  },
  {
   "cell_type": "code",
   "execution_count": 0,
   "metadata": {
    "application/vnd.databricks.v1+cell": {
     "cellMetadata": {
      "byteLimit": 2048000,
      "rowLimit": 10000
     },
     "inputWidgets": {},
     "nuid": "23b99448-0093-4b94-b99c-f8c7506b697a",
     "showTitle": false,
     "title": ""
    }
   },
   "outputs": [
    {
     "output_type": "stream",
     "name": "stdout",
     "output_type": "stream",
     "text": [
      "Out[90]: 0.7594421847762929"
     ]
    }
   ],
   "source": [
    "accuracy_score(y_true = y_test_pan, y_pred = y_test_pred)"
   ]
  },
  {
   "cell_type": "markdown",
   "metadata": {
    "application/vnd.databricks.v1+cell": {
     "cellMetadata": {},
     "inputWidgets": {},
     "nuid": "822528b8-7dd6-47ef-8ed8-20e2787356ce",
     "showTitle": false,
     "title": ""
    }
   },
   "source": [
    "Models mean prediction accuracy scores summary: \n",
    "\n",
    "Decision Tree: 0.33\n",
    "\n",
    "Random Forest: 0.44\n",
    "\n",
    "Logistic Regression: 0.38\n",
    "\n",
    "## KNN: 0.75"
   ]
  },
  {
   "cell_type": "markdown",
   "metadata": {
    "application/vnd.databricks.v1+cell": {
     "cellMetadata": {},
     "inputWidgets": {},
     "nuid": "b27bb738-c8d0-45a8-b6bf-a96a3cf863a7",
     "showTitle": false,
     "title": ""
    }
   },
   "source": [
    "**Insights & Conclusions:**\n",
    "\n",
    "1) The K Nearest Neighbor classifier has prooved to provide substantial higher prediction accuracy than the rest of the models (overall mean accuracy ~0.75 on test set) in this case.\n",
    "\n",
    "2) The analysis demonstrated typical differentiation of detection accuracy accross the various physical activities"
   ]
  },
  {
   "cell_type": "code",
   "execution_count": 0,
   "metadata": {
    "application/vnd.databricks.v1+cell": {
     "cellMetadata": {},
     "inputWidgets": {},
     "nuid": "d8ca139a-c5dc-482c-9292-d261e7d71e98",
     "showTitle": false,
     "title": ""
    }
   },
   "outputs": [],
   "source": []
  }
 ],
 "metadata": {
  "application/vnd.databricks.v1+notebook": {
   "dashboards": [
    {
     "elements": [
      {
       "dashboardResultIndex": 0,
       "elementNUID": "37087266-b7ee-4e85-b510-baee7bf4e6b2",
       "elementType": "command",
       "guid": "89dbe530-2a22-4dd5-b28f-e2bf799bf138",
       "options": null,
       "position": {
        "height": 6,
        "width": 12,
        "x": 0,
        "y": 0,
        "z": null
       },
       "resultIndex": null
      }
     ],
     "globalVars": {},
     "guid": "83d18026-3e05-47cb-8605-6a5a2c22a2f7",
     "layoutOption": {
      "grid": true,
      "stack": true
     },
     "nuid": "26ce8fd9-08df-4eff-a140-021b60c389c4",
     "origId": 1553934119492363,
     "title": "Untitled",
     "version": "DashboardViewV1",
     "width": 1024
    }
   ],
   "language": "python",
   "notebookMetadata": {
    "pythonIndentUnit": 4
   },
   "notebookName": "proj2",
   "notebookOrigID": 748526509780256,
   "widgets": {}
  }
 },
 "nbformat": 4,
 "nbformat_minor": 0
}
